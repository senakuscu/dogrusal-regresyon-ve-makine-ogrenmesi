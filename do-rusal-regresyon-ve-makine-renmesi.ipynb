{
 "cells": [
  {
   "cell_type": "markdown",
   "id": "potential-jewel",
   "metadata": {
    "papermill": {
     "duration": 0.035674,
     "end_time": "2021-05-29T17:50:35.903711",
     "exception": false,
     "start_time": "2021-05-29T17:50:35.868037",
     "status": "completed"
    },
    "tags": []
   },
   "source": [
    "# Doğrusal Regresyon Egzersizleri"
   ]
  },
  {
   "cell_type": "markdown",
   "id": "electrical-reproduction",
   "metadata": {
    "papermill": {
     "duration": 0.034578,
     "end_time": "2021-05-29T17:50:35.973027",
     "exception": false,
     "start_time": "2021-05-29T17:50:35.938449",
     "status": "completed"
    },
    "tags": []
   },
   "source": [
    "50 adet Startup'ın araştırma ve geliştirmeye yönelik harcaması, yönetime yönelik harcaması, pazarlama harcaması, kazandıkları kar miktarı ve kuruldukları lokasyon bilgisi bulunmaktadır. Amaç kar miktarını tahmin etmektir. Bu bir sayısal tahmin problemidir ve bağımlı değişkenimiz \"Profit\"."
   ]
  },
  {
   "cell_type": "markdown",
   "id": "standard-measurement",
   "metadata": {
    "papermill": {
     "duration": 0.034227,
     "end_time": "2021-05-29T17:50:36.043134",
     "exception": false,
     "start_time": "2021-05-29T17:50:36.008907",
     "status": "completed"
    },
    "tags": []
   },
   "source": [
    "Numpy, matplotlib.pyplot, pandas ve seaborn kütüphanelerini çekirdeğe dahil edelim."
   ]
  },
  {
   "cell_type": "code",
   "execution_count": 1,
   "id": "decent-discretion",
   "metadata": {
    "execution": {
     "iopub.execute_input": "2021-05-29T17:50:36.115897Z",
     "iopub.status.busy": "2021-05-29T17:50:36.114802Z",
     "iopub.status.idle": "2021-05-29T17:50:36.930866Z",
     "shell.execute_reply": "2021-05-29T17:50:36.930096Z"
    },
    "papermill": {
     "duration": 0.853652,
     "end_time": "2021-05-29T17:50:36.931038",
     "exception": false,
     "start_time": "2021-05-29T17:50:36.077386",
     "status": "completed"
    },
    "tags": []
   },
   "outputs": [],
   "source": [
    "import numpy as np \n",
    "import pandas as pd \n",
    "import seaborn as sns\n",
    "import matplotlib.pyplot as plt"
   ]
  },
  {
   "cell_type": "markdown",
   "id": "instrumental-father",
   "metadata": {
    "papermill": {
     "duration": 0.03523,
     "end_time": "2021-05-29T17:50:37.001997",
     "exception": false,
     "start_time": "2021-05-29T17:50:36.966767",
     "status": "completed"
    },
    "tags": []
   },
   "source": [
    "Dizinde bulunan veri çerçevemizi startups değişkenine atayalım. startups değişkenini df değişkenine kopyalayarak kullanmaya başlayalım."
   ]
  },
  {
   "cell_type": "code",
   "execution_count": 2,
   "id": "norwegian-ocean",
   "metadata": {
    "execution": {
     "iopub.execute_input": "2021-05-29T17:50:37.077539Z",
     "iopub.status.busy": "2021-05-29T17:50:37.076847Z",
     "iopub.status.idle": "2021-05-29T17:50:37.143450Z",
     "shell.execute_reply": "2021-05-29T17:50:37.143899Z"
    },
    "papermill": {
     "duration": 0.106193,
     "end_time": "2021-05-29T17:50:37.144070",
     "exception": false,
     "start_time": "2021-05-29T17:50:37.037877",
     "status": "completed"
    },
    "tags": []
   },
   "outputs": [
    {
     "data": {
      "text/html": [
       "<div>\n",
       "<style scoped>\n",
       "    .dataframe tbody tr th:only-of-type {\n",
       "        vertical-align: middle;\n",
       "    }\n",
       "\n",
       "    .dataframe tbody tr th {\n",
       "        vertical-align: top;\n",
       "    }\n",
       "\n",
       "    .dataframe thead th {\n",
       "        text-align: right;\n",
       "    }\n",
       "</style>\n",
       "<table border=\"1\" class=\"dataframe\">\n",
       "  <thead>\n",
       "    <tr style=\"text-align: right;\">\n",
       "      <th></th>\n",
       "      <th>R&amp;D Spend</th>\n",
       "      <th>Administration</th>\n",
       "      <th>Marketing Spend</th>\n",
       "      <th>State</th>\n",
       "      <th>Profit</th>\n",
       "    </tr>\n",
       "  </thead>\n",
       "  <tbody>\n",
       "    <tr>\n",
       "      <th>0</th>\n",
       "      <td>165349.20</td>\n",
       "      <td>136897.80</td>\n",
       "      <td>471784.10</td>\n",
       "      <td>New York</td>\n",
       "      <td>192261.83</td>\n",
       "    </tr>\n",
       "    <tr>\n",
       "      <th>1</th>\n",
       "      <td>162597.70</td>\n",
       "      <td>151377.59</td>\n",
       "      <td>443898.53</td>\n",
       "      <td>California</td>\n",
       "      <td>191792.06</td>\n",
       "    </tr>\n",
       "    <tr>\n",
       "      <th>2</th>\n",
       "      <td>153441.51</td>\n",
       "      <td>101145.55</td>\n",
       "      <td>407934.54</td>\n",
       "      <td>Florida</td>\n",
       "      <td>191050.39</td>\n",
       "    </tr>\n",
       "    <tr>\n",
       "      <th>3</th>\n",
       "      <td>144372.41</td>\n",
       "      <td>118671.85</td>\n",
       "      <td>383199.62</td>\n",
       "      <td>New York</td>\n",
       "      <td>182901.99</td>\n",
       "    </tr>\n",
       "    <tr>\n",
       "      <th>4</th>\n",
       "      <td>142107.34</td>\n",
       "      <td>91391.77</td>\n",
       "      <td>366168.42</td>\n",
       "      <td>Florida</td>\n",
       "      <td>166187.94</td>\n",
       "    </tr>\n",
       "    <tr>\n",
       "      <th>5</th>\n",
       "      <td>131876.90</td>\n",
       "      <td>99814.71</td>\n",
       "      <td>362861.36</td>\n",
       "      <td>New York</td>\n",
       "      <td>156991.12</td>\n",
       "    </tr>\n",
       "    <tr>\n",
       "      <th>6</th>\n",
       "      <td>134615.46</td>\n",
       "      <td>147198.87</td>\n",
       "      <td>127716.82</td>\n",
       "      <td>California</td>\n",
       "      <td>156122.51</td>\n",
       "    </tr>\n",
       "    <tr>\n",
       "      <th>7</th>\n",
       "      <td>130298.13</td>\n",
       "      <td>145530.06</td>\n",
       "      <td>323876.68</td>\n",
       "      <td>Florida</td>\n",
       "      <td>155752.60</td>\n",
       "    </tr>\n",
       "    <tr>\n",
       "      <th>8</th>\n",
       "      <td>120542.52</td>\n",
       "      <td>148718.95</td>\n",
       "      <td>311613.29</td>\n",
       "      <td>New York</td>\n",
       "      <td>152211.77</td>\n",
       "    </tr>\n",
       "    <tr>\n",
       "      <th>9</th>\n",
       "      <td>123334.88</td>\n",
       "      <td>108679.17</td>\n",
       "      <td>304981.62</td>\n",
       "      <td>California</td>\n",
       "      <td>149759.96</td>\n",
       "    </tr>\n",
       "    <tr>\n",
       "      <th>10</th>\n",
       "      <td>101913.08</td>\n",
       "      <td>110594.11</td>\n",
       "      <td>229160.95</td>\n",
       "      <td>Florida</td>\n",
       "      <td>146121.95</td>\n",
       "    </tr>\n",
       "    <tr>\n",
       "      <th>11</th>\n",
       "      <td>100671.96</td>\n",
       "      <td>91790.61</td>\n",
       "      <td>249744.55</td>\n",
       "      <td>California</td>\n",
       "      <td>144259.40</td>\n",
       "    </tr>\n",
       "    <tr>\n",
       "      <th>12</th>\n",
       "      <td>93863.75</td>\n",
       "      <td>127320.38</td>\n",
       "      <td>249839.44</td>\n",
       "      <td>Florida</td>\n",
       "      <td>141585.52</td>\n",
       "    </tr>\n",
       "    <tr>\n",
       "      <th>13</th>\n",
       "      <td>91992.39</td>\n",
       "      <td>135495.07</td>\n",
       "      <td>252664.93</td>\n",
       "      <td>California</td>\n",
       "      <td>134307.35</td>\n",
       "    </tr>\n",
       "    <tr>\n",
       "      <th>14</th>\n",
       "      <td>119943.24</td>\n",
       "      <td>156547.42</td>\n",
       "      <td>256512.92</td>\n",
       "      <td>Florida</td>\n",
       "      <td>132602.65</td>\n",
       "    </tr>\n",
       "    <tr>\n",
       "      <th>15</th>\n",
       "      <td>114523.61</td>\n",
       "      <td>122616.84</td>\n",
       "      <td>261776.23</td>\n",
       "      <td>New York</td>\n",
       "      <td>129917.04</td>\n",
       "    </tr>\n",
       "    <tr>\n",
       "      <th>16</th>\n",
       "      <td>78013.11</td>\n",
       "      <td>121597.55</td>\n",
       "      <td>264346.06</td>\n",
       "      <td>California</td>\n",
       "      <td>126992.93</td>\n",
       "    </tr>\n",
       "    <tr>\n",
       "      <th>17</th>\n",
       "      <td>94657.16</td>\n",
       "      <td>145077.58</td>\n",
       "      <td>282574.31</td>\n",
       "      <td>New York</td>\n",
       "      <td>125370.37</td>\n",
       "    </tr>\n",
       "    <tr>\n",
       "      <th>18</th>\n",
       "      <td>91749.16</td>\n",
       "      <td>114175.79</td>\n",
       "      <td>294919.57</td>\n",
       "      <td>Florida</td>\n",
       "      <td>124266.90</td>\n",
       "    </tr>\n",
       "    <tr>\n",
       "      <th>19</th>\n",
       "      <td>86419.70</td>\n",
       "      <td>153514.11</td>\n",
       "      <td>0.00</td>\n",
       "      <td>New York</td>\n",
       "      <td>122776.86</td>\n",
       "    </tr>\n",
       "    <tr>\n",
       "      <th>20</th>\n",
       "      <td>76253.86</td>\n",
       "      <td>113867.30</td>\n",
       "      <td>298664.47</td>\n",
       "      <td>California</td>\n",
       "      <td>118474.03</td>\n",
       "    </tr>\n",
       "    <tr>\n",
       "      <th>21</th>\n",
       "      <td>78389.47</td>\n",
       "      <td>153773.43</td>\n",
       "      <td>299737.29</td>\n",
       "      <td>New York</td>\n",
       "      <td>111313.02</td>\n",
       "    </tr>\n",
       "    <tr>\n",
       "      <th>22</th>\n",
       "      <td>73994.56</td>\n",
       "      <td>122782.75</td>\n",
       "      <td>303319.26</td>\n",
       "      <td>Florida</td>\n",
       "      <td>110352.25</td>\n",
       "    </tr>\n",
       "    <tr>\n",
       "      <th>23</th>\n",
       "      <td>67532.53</td>\n",
       "      <td>105751.03</td>\n",
       "      <td>304768.73</td>\n",
       "      <td>Florida</td>\n",
       "      <td>108733.99</td>\n",
       "    </tr>\n",
       "    <tr>\n",
       "      <th>24</th>\n",
       "      <td>77044.01</td>\n",
       "      <td>99281.34</td>\n",
       "      <td>140574.81</td>\n",
       "      <td>New York</td>\n",
       "      <td>108552.04</td>\n",
       "    </tr>\n",
       "    <tr>\n",
       "      <th>25</th>\n",
       "      <td>64664.71</td>\n",
       "      <td>139553.16</td>\n",
       "      <td>137962.62</td>\n",
       "      <td>California</td>\n",
       "      <td>107404.34</td>\n",
       "    </tr>\n",
       "    <tr>\n",
       "      <th>26</th>\n",
       "      <td>75328.87</td>\n",
       "      <td>144135.98</td>\n",
       "      <td>134050.07</td>\n",
       "      <td>Florida</td>\n",
       "      <td>105733.54</td>\n",
       "    </tr>\n",
       "    <tr>\n",
       "      <th>27</th>\n",
       "      <td>72107.60</td>\n",
       "      <td>127864.55</td>\n",
       "      <td>353183.81</td>\n",
       "      <td>New York</td>\n",
       "      <td>105008.31</td>\n",
       "    </tr>\n",
       "    <tr>\n",
       "      <th>28</th>\n",
       "      <td>66051.52</td>\n",
       "      <td>182645.56</td>\n",
       "      <td>118148.20</td>\n",
       "      <td>Florida</td>\n",
       "      <td>103282.38</td>\n",
       "    </tr>\n",
       "    <tr>\n",
       "      <th>29</th>\n",
       "      <td>65605.48</td>\n",
       "      <td>153032.06</td>\n",
       "      <td>107138.38</td>\n",
       "      <td>New York</td>\n",
       "      <td>101004.64</td>\n",
       "    </tr>\n",
       "    <tr>\n",
       "      <th>30</th>\n",
       "      <td>61994.48</td>\n",
       "      <td>115641.28</td>\n",
       "      <td>91131.24</td>\n",
       "      <td>Florida</td>\n",
       "      <td>99937.59</td>\n",
       "    </tr>\n",
       "    <tr>\n",
       "      <th>31</th>\n",
       "      <td>61136.38</td>\n",
       "      <td>152701.92</td>\n",
       "      <td>88218.23</td>\n",
       "      <td>New York</td>\n",
       "      <td>97483.56</td>\n",
       "    </tr>\n",
       "    <tr>\n",
       "      <th>32</th>\n",
       "      <td>63408.86</td>\n",
       "      <td>129219.61</td>\n",
       "      <td>46085.25</td>\n",
       "      <td>California</td>\n",
       "      <td>97427.84</td>\n",
       "    </tr>\n",
       "    <tr>\n",
       "      <th>33</th>\n",
       "      <td>55493.95</td>\n",
       "      <td>103057.49</td>\n",
       "      <td>214634.81</td>\n",
       "      <td>Florida</td>\n",
       "      <td>96778.92</td>\n",
       "    </tr>\n",
       "    <tr>\n",
       "      <th>34</th>\n",
       "      <td>46426.07</td>\n",
       "      <td>157693.92</td>\n",
       "      <td>210797.67</td>\n",
       "      <td>California</td>\n",
       "      <td>96712.80</td>\n",
       "    </tr>\n",
       "    <tr>\n",
       "      <th>35</th>\n",
       "      <td>46014.02</td>\n",
       "      <td>85047.44</td>\n",
       "      <td>205517.64</td>\n",
       "      <td>New York</td>\n",
       "      <td>96479.51</td>\n",
       "    </tr>\n",
       "    <tr>\n",
       "      <th>36</th>\n",
       "      <td>28663.76</td>\n",
       "      <td>127056.21</td>\n",
       "      <td>201126.82</td>\n",
       "      <td>Florida</td>\n",
       "      <td>90708.19</td>\n",
       "    </tr>\n",
       "    <tr>\n",
       "      <th>37</th>\n",
       "      <td>44069.95</td>\n",
       "      <td>51283.14</td>\n",
       "      <td>197029.42</td>\n",
       "      <td>California</td>\n",
       "      <td>89949.14</td>\n",
       "    </tr>\n",
       "    <tr>\n",
       "      <th>38</th>\n",
       "      <td>20229.59</td>\n",
       "      <td>65947.93</td>\n",
       "      <td>185265.10</td>\n",
       "      <td>New York</td>\n",
       "      <td>81229.06</td>\n",
       "    </tr>\n",
       "    <tr>\n",
       "      <th>39</th>\n",
       "      <td>38558.51</td>\n",
       "      <td>82982.09</td>\n",
       "      <td>174999.30</td>\n",
       "      <td>California</td>\n",
       "      <td>81005.76</td>\n",
       "    </tr>\n",
       "    <tr>\n",
       "      <th>40</th>\n",
       "      <td>28754.33</td>\n",
       "      <td>118546.05</td>\n",
       "      <td>172795.67</td>\n",
       "      <td>California</td>\n",
       "      <td>78239.91</td>\n",
       "    </tr>\n",
       "    <tr>\n",
       "      <th>41</th>\n",
       "      <td>27892.92</td>\n",
       "      <td>84710.77</td>\n",
       "      <td>164470.71</td>\n",
       "      <td>Florida</td>\n",
       "      <td>77798.83</td>\n",
       "    </tr>\n",
       "    <tr>\n",
       "      <th>42</th>\n",
       "      <td>23640.93</td>\n",
       "      <td>96189.63</td>\n",
       "      <td>148001.11</td>\n",
       "      <td>California</td>\n",
       "      <td>71498.49</td>\n",
       "    </tr>\n",
       "    <tr>\n",
       "      <th>43</th>\n",
       "      <td>15505.73</td>\n",
       "      <td>127382.30</td>\n",
       "      <td>35534.17</td>\n",
       "      <td>New York</td>\n",
       "      <td>69758.98</td>\n",
       "    </tr>\n",
       "    <tr>\n",
       "      <th>44</th>\n",
       "      <td>22177.74</td>\n",
       "      <td>154806.14</td>\n",
       "      <td>28334.72</td>\n",
       "      <td>California</td>\n",
       "      <td>65200.33</td>\n",
       "    </tr>\n",
       "    <tr>\n",
       "      <th>45</th>\n",
       "      <td>1000.23</td>\n",
       "      <td>124153.04</td>\n",
       "      <td>1903.93</td>\n",
       "      <td>New York</td>\n",
       "      <td>64926.08</td>\n",
       "    </tr>\n",
       "    <tr>\n",
       "      <th>46</th>\n",
       "      <td>1315.46</td>\n",
       "      <td>115816.21</td>\n",
       "      <td>297114.46</td>\n",
       "      <td>Florida</td>\n",
       "      <td>49490.75</td>\n",
       "    </tr>\n",
       "    <tr>\n",
       "      <th>47</th>\n",
       "      <td>0.00</td>\n",
       "      <td>135426.92</td>\n",
       "      <td>0.00</td>\n",
       "      <td>California</td>\n",
       "      <td>42559.73</td>\n",
       "    </tr>\n",
       "    <tr>\n",
       "      <th>48</th>\n",
       "      <td>542.05</td>\n",
       "      <td>51743.15</td>\n",
       "      <td>0.00</td>\n",
       "      <td>New York</td>\n",
       "      <td>35673.41</td>\n",
       "    </tr>\n",
       "    <tr>\n",
       "      <th>49</th>\n",
       "      <td>0.00</td>\n",
       "      <td>116983.80</td>\n",
       "      <td>45173.06</td>\n",
       "      <td>California</td>\n",
       "      <td>14681.40</td>\n",
       "    </tr>\n",
       "  </tbody>\n",
       "</table>\n",
       "</div>"
      ],
      "text/plain": [
       "    R&D Spend  Administration  Marketing Spend       State     Profit\n",
       "0   165349.20       136897.80        471784.10    New York  192261.83\n",
       "1   162597.70       151377.59        443898.53  California  191792.06\n",
       "2   153441.51       101145.55        407934.54     Florida  191050.39\n",
       "3   144372.41       118671.85        383199.62    New York  182901.99\n",
       "4   142107.34        91391.77        366168.42     Florida  166187.94\n",
       "5   131876.90        99814.71        362861.36    New York  156991.12\n",
       "6   134615.46       147198.87        127716.82  California  156122.51\n",
       "7   130298.13       145530.06        323876.68     Florida  155752.60\n",
       "8   120542.52       148718.95        311613.29    New York  152211.77\n",
       "9   123334.88       108679.17        304981.62  California  149759.96\n",
       "10  101913.08       110594.11        229160.95     Florida  146121.95\n",
       "11  100671.96        91790.61        249744.55  California  144259.40\n",
       "12   93863.75       127320.38        249839.44     Florida  141585.52\n",
       "13   91992.39       135495.07        252664.93  California  134307.35\n",
       "14  119943.24       156547.42        256512.92     Florida  132602.65\n",
       "15  114523.61       122616.84        261776.23    New York  129917.04\n",
       "16   78013.11       121597.55        264346.06  California  126992.93\n",
       "17   94657.16       145077.58        282574.31    New York  125370.37\n",
       "18   91749.16       114175.79        294919.57     Florida  124266.90\n",
       "19   86419.70       153514.11             0.00    New York  122776.86\n",
       "20   76253.86       113867.30        298664.47  California  118474.03\n",
       "21   78389.47       153773.43        299737.29    New York  111313.02\n",
       "22   73994.56       122782.75        303319.26     Florida  110352.25\n",
       "23   67532.53       105751.03        304768.73     Florida  108733.99\n",
       "24   77044.01        99281.34        140574.81    New York  108552.04\n",
       "25   64664.71       139553.16        137962.62  California  107404.34\n",
       "26   75328.87       144135.98        134050.07     Florida  105733.54\n",
       "27   72107.60       127864.55        353183.81    New York  105008.31\n",
       "28   66051.52       182645.56        118148.20     Florida  103282.38\n",
       "29   65605.48       153032.06        107138.38    New York  101004.64\n",
       "30   61994.48       115641.28         91131.24     Florida   99937.59\n",
       "31   61136.38       152701.92         88218.23    New York   97483.56\n",
       "32   63408.86       129219.61         46085.25  California   97427.84\n",
       "33   55493.95       103057.49        214634.81     Florida   96778.92\n",
       "34   46426.07       157693.92        210797.67  California   96712.80\n",
       "35   46014.02        85047.44        205517.64    New York   96479.51\n",
       "36   28663.76       127056.21        201126.82     Florida   90708.19\n",
       "37   44069.95        51283.14        197029.42  California   89949.14\n",
       "38   20229.59        65947.93        185265.10    New York   81229.06\n",
       "39   38558.51        82982.09        174999.30  California   81005.76\n",
       "40   28754.33       118546.05        172795.67  California   78239.91\n",
       "41   27892.92        84710.77        164470.71     Florida   77798.83\n",
       "42   23640.93        96189.63        148001.11  California   71498.49\n",
       "43   15505.73       127382.30         35534.17    New York   69758.98\n",
       "44   22177.74       154806.14         28334.72  California   65200.33\n",
       "45    1000.23       124153.04          1903.93    New York   64926.08\n",
       "46    1315.46       115816.21        297114.46     Florida   49490.75\n",
       "47       0.00       135426.92             0.00  California   42559.73\n",
       "48     542.05        51743.15             0.00    New York   35673.41\n",
       "49       0.00       116983.80         45173.06  California   14681.40"
      ]
     },
     "execution_count": 2,
     "metadata": {},
     "output_type": "execute_result"
    }
   ],
   "source": [
    "startups = pd.read_csv('../input/50-startups/50_Startups.csv')\n",
    "df = startups.copy()\n",
    "df"
   ]
  },
  {
   "cell_type": "markdown",
   "id": "considered-behavior",
   "metadata": {
    "papermill": {
     "duration": 0.034966,
     "end_time": "2021-05-29T17:50:37.215323",
     "exception": false,
     "start_time": "2021-05-29T17:50:37.180357",
     "status": "completed"
    },
    "tags": []
   },
   "source": [
    "İlk 5 gözlemini yazdıralım."
   ]
  },
  {
   "cell_type": "code",
   "execution_count": 3,
   "id": "ceramic-writer",
   "metadata": {
    "execution": {
     "iopub.execute_input": "2021-05-29T17:50:37.298631Z",
     "iopub.status.busy": "2021-05-29T17:50:37.298050Z",
     "iopub.status.idle": "2021-05-29T17:50:37.301873Z",
     "shell.execute_reply": "2021-05-29T17:50:37.301381Z"
    },
    "papermill": {
     "duration": 0.051142,
     "end_time": "2021-05-29T17:50:37.302013",
     "exception": false,
     "start_time": "2021-05-29T17:50:37.250871",
     "status": "completed"
    },
    "tags": []
   },
   "outputs": [
    {
     "data": {
      "text/html": [
       "<div>\n",
       "<style scoped>\n",
       "    .dataframe tbody tr th:only-of-type {\n",
       "        vertical-align: middle;\n",
       "    }\n",
       "\n",
       "    .dataframe tbody tr th {\n",
       "        vertical-align: top;\n",
       "    }\n",
       "\n",
       "    .dataframe thead th {\n",
       "        text-align: right;\n",
       "    }\n",
       "</style>\n",
       "<table border=\"1\" class=\"dataframe\">\n",
       "  <thead>\n",
       "    <tr style=\"text-align: right;\">\n",
       "      <th></th>\n",
       "      <th>R&amp;D Spend</th>\n",
       "      <th>Administration</th>\n",
       "      <th>Marketing Spend</th>\n",
       "      <th>State</th>\n",
       "      <th>Profit</th>\n",
       "    </tr>\n",
       "  </thead>\n",
       "  <tbody>\n",
       "    <tr>\n",
       "      <th>0</th>\n",
       "      <td>165349.20</td>\n",
       "      <td>136897.80</td>\n",
       "      <td>471784.10</td>\n",
       "      <td>New York</td>\n",
       "      <td>192261.83</td>\n",
       "    </tr>\n",
       "    <tr>\n",
       "      <th>1</th>\n",
       "      <td>162597.70</td>\n",
       "      <td>151377.59</td>\n",
       "      <td>443898.53</td>\n",
       "      <td>California</td>\n",
       "      <td>191792.06</td>\n",
       "    </tr>\n",
       "    <tr>\n",
       "      <th>2</th>\n",
       "      <td>153441.51</td>\n",
       "      <td>101145.55</td>\n",
       "      <td>407934.54</td>\n",
       "      <td>Florida</td>\n",
       "      <td>191050.39</td>\n",
       "    </tr>\n",
       "    <tr>\n",
       "      <th>3</th>\n",
       "      <td>144372.41</td>\n",
       "      <td>118671.85</td>\n",
       "      <td>383199.62</td>\n",
       "      <td>New York</td>\n",
       "      <td>182901.99</td>\n",
       "    </tr>\n",
       "    <tr>\n",
       "      <th>4</th>\n",
       "      <td>142107.34</td>\n",
       "      <td>91391.77</td>\n",
       "      <td>366168.42</td>\n",
       "      <td>Florida</td>\n",
       "      <td>166187.94</td>\n",
       "    </tr>\n",
       "  </tbody>\n",
       "</table>\n",
       "</div>"
      ],
      "text/plain": [
       "   R&D Spend  Administration  Marketing Spend       State     Profit\n",
       "0  165349.20       136897.80        471784.10    New York  192261.83\n",
       "1  162597.70       151377.59        443898.53  California  191792.06\n",
       "2  153441.51       101145.55        407934.54     Florida  191050.39\n",
       "3  144372.41       118671.85        383199.62    New York  182901.99\n",
       "4  142107.34        91391.77        366168.42     Florida  166187.94"
      ]
     },
     "execution_count": 3,
     "metadata": {},
     "output_type": "execute_result"
    }
   ],
   "source": [
    "df.head()"
   ]
  },
  {
   "cell_type": "markdown",
   "id": "meaningful-vulnerability",
   "metadata": {
    "papermill": {
     "duration": 0.035763,
     "end_time": "2021-05-29T17:50:37.374098",
     "exception": false,
     "start_time": "2021-05-29T17:50:37.338335",
     "status": "completed"
    },
    "tags": []
   },
   "source": [
    "Veri çerçevesinin bilgilerini görüntüleyelim."
   ]
  },
  {
   "cell_type": "code",
   "execution_count": 4,
   "id": "proper-credits",
   "metadata": {
    "execution": {
     "iopub.execute_input": "2021-05-29T17:50:37.456308Z",
     "iopub.status.busy": "2021-05-29T17:50:37.455652Z",
     "iopub.status.idle": "2021-05-29T17:50:37.469109Z",
     "shell.execute_reply": "2021-05-29T17:50:37.469547Z"
    },
    "papermill": {
     "duration": 0.058709,
     "end_time": "2021-05-29T17:50:37.469715",
     "exception": false,
     "start_time": "2021-05-29T17:50:37.411006",
     "status": "completed"
    },
    "tags": []
   },
   "outputs": [
    {
     "name": "stdout",
     "output_type": "stream",
     "text": [
      "<class 'pandas.core.frame.DataFrame'>\n",
      "RangeIndex: 50 entries, 0 to 49\n",
      "Data columns (total 5 columns):\n",
      " #   Column           Non-Null Count  Dtype  \n",
      "---  ------           --------------  -----  \n",
      " 0   R&D Spend        50 non-null     float64\n",
      " 1   Administration   50 non-null     float64\n",
      " 2   Marketing Spend  50 non-null     float64\n",
      " 3   State            50 non-null     object \n",
      " 4   Profit           50 non-null     float64\n",
      "dtypes: float64(4), object(1)\n",
      "memory usage: 2.1+ KB\n"
     ]
    }
   ],
   "source": [
    "df.info()"
   ]
  },
  {
   "cell_type": "markdown",
   "id": "prompt-processing",
   "metadata": {
    "papermill": {
     "duration": 0.036507,
     "end_time": "2021-05-29T17:50:37.543237",
     "exception": false,
     "start_time": "2021-05-29T17:50:37.506730",
     "status": "completed"
    },
    "tags": []
   },
   "source": [
    "Kaç gözlem ve öznitelikten oluştuğunu görüntüleyelim."
   ]
  },
  {
   "cell_type": "code",
   "execution_count": 5,
   "id": "brown-treat",
   "metadata": {
    "execution": {
     "iopub.execute_input": "2021-05-29T17:50:37.620708Z",
     "iopub.status.busy": "2021-05-29T17:50:37.620021Z",
     "iopub.status.idle": "2021-05-29T17:50:37.622552Z",
     "shell.execute_reply": "2021-05-29T17:50:37.623079Z"
    },
    "papermill": {
     "duration": 0.04379,
     "end_time": "2021-05-29T17:50:37.623230",
     "exception": false,
     "start_time": "2021-05-29T17:50:37.579440",
     "status": "completed"
    },
    "tags": []
   },
   "outputs": [
    {
     "data": {
      "text/plain": [
       "(50, 5)"
      ]
     },
     "execution_count": 5,
     "metadata": {},
     "output_type": "execute_result"
    }
   ],
   "source": [
    "df.shape"
   ]
  },
  {
   "cell_type": "markdown",
   "id": "decreased-limit",
   "metadata": {
    "papermill": {
     "duration": 0.037007,
     "end_time": "2021-05-29T17:50:37.697818",
     "exception": false,
     "start_time": "2021-05-29T17:50:37.660811",
     "status": "completed"
    },
    "tags": []
   },
   "source": [
    "Eksik verileri kontrol edelim."
   ]
  },
  {
   "cell_type": "code",
   "execution_count": 6,
   "id": "classified-notebook",
   "metadata": {
    "execution": {
     "iopub.execute_input": "2021-05-29T17:50:37.774554Z",
     "iopub.status.busy": "2021-05-29T17:50:37.773860Z",
     "iopub.status.idle": "2021-05-29T17:50:37.780257Z",
     "shell.execute_reply": "2021-05-29T17:50:37.780810Z"
    },
    "papermill": {
     "duration": 0.046381,
     "end_time": "2021-05-29T17:50:37.780997",
     "exception": false,
     "start_time": "2021-05-29T17:50:37.734616",
     "status": "completed"
    },
    "tags": []
   },
   "outputs": [
    {
     "data": {
      "text/plain": [
       "R&D Spend          0\n",
       "Administration     0\n",
       "Marketing Spend    0\n",
       "State              0\n",
       "Profit             0\n",
       "dtype: int64"
      ]
     },
     "execution_count": 6,
     "metadata": {},
     "output_type": "execute_result"
    }
   ],
   "source": [
    "df.isnull().sum()"
   ]
  },
  {
   "cell_type": "markdown",
   "id": "express-zambia",
   "metadata": {
    "papermill": {
     "duration": 0.037849,
     "end_time": "2021-05-29T17:50:37.856564",
     "exception": false,
     "start_time": "2021-05-29T17:50:37.818715",
     "status": "completed"
    },
    "tags": []
   },
   "source": [
    "Korelasyon matrisi çizdirelim."
   ]
  },
  {
   "cell_type": "code",
   "execution_count": 7,
   "id": "normal-mileage",
   "metadata": {
    "execution": {
     "iopub.execute_input": "2021-05-29T17:50:37.935303Z",
     "iopub.status.busy": "2021-05-29T17:50:37.934690Z",
     "iopub.status.idle": "2021-05-29T17:50:37.948140Z",
     "shell.execute_reply": "2021-05-29T17:50:37.947616Z"
    },
    "papermill": {
     "duration": 0.053814,
     "end_time": "2021-05-29T17:50:37.948284",
     "exception": false,
     "start_time": "2021-05-29T17:50:37.894470",
     "status": "completed"
    },
    "tags": []
   },
   "outputs": [
    {
     "data": {
      "text/html": [
       "<div>\n",
       "<style scoped>\n",
       "    .dataframe tbody tr th:only-of-type {\n",
       "        vertical-align: middle;\n",
       "    }\n",
       "\n",
       "    .dataframe tbody tr th {\n",
       "        vertical-align: top;\n",
       "    }\n",
       "\n",
       "    .dataframe thead th {\n",
       "        text-align: right;\n",
       "    }\n",
       "</style>\n",
       "<table border=\"1\" class=\"dataframe\">\n",
       "  <thead>\n",
       "    <tr style=\"text-align: right;\">\n",
       "      <th></th>\n",
       "      <th>R&amp;D Spend</th>\n",
       "      <th>Administration</th>\n",
       "      <th>Marketing Spend</th>\n",
       "      <th>Profit</th>\n",
       "    </tr>\n",
       "  </thead>\n",
       "  <tbody>\n",
       "    <tr>\n",
       "      <th>R&amp;D Spend</th>\n",
       "      <td>1.000000</td>\n",
       "      <td>0.241955</td>\n",
       "      <td>0.724248</td>\n",
       "      <td>0.972900</td>\n",
       "    </tr>\n",
       "    <tr>\n",
       "      <th>Administration</th>\n",
       "      <td>0.241955</td>\n",
       "      <td>1.000000</td>\n",
       "      <td>-0.032154</td>\n",
       "      <td>0.200717</td>\n",
       "    </tr>\n",
       "    <tr>\n",
       "      <th>Marketing Spend</th>\n",
       "      <td>0.724248</td>\n",
       "      <td>-0.032154</td>\n",
       "      <td>1.000000</td>\n",
       "      <td>0.747766</td>\n",
       "    </tr>\n",
       "    <tr>\n",
       "      <th>Profit</th>\n",
       "      <td>0.972900</td>\n",
       "      <td>0.200717</td>\n",
       "      <td>0.747766</td>\n",
       "      <td>1.000000</td>\n",
       "    </tr>\n",
       "  </tbody>\n",
       "</table>\n",
       "</div>"
      ],
      "text/plain": [
       "                 R&D Spend  Administration  Marketing Spend    Profit\n",
       "R&D Spend         1.000000        0.241955         0.724248  0.972900\n",
       "Administration    0.241955        1.000000        -0.032154  0.200717\n",
       "Marketing Spend   0.724248       -0.032154         1.000000  0.747766\n",
       "Profit            0.972900        0.200717         0.747766  1.000000"
      ]
     },
     "execution_count": 7,
     "metadata": {},
     "output_type": "execute_result"
    }
   ],
   "source": [
    "df.corr()"
   ]
  },
  {
   "cell_type": "markdown",
   "id": "acquired-cleveland",
   "metadata": {
    "papermill": {
     "duration": 0.039405,
     "end_time": "2021-05-29T17:50:38.026921",
     "exception": false,
     "start_time": "2021-05-29T17:50:37.987516",
     "status": "completed"
    },
    "tags": []
   },
   "source": [
    "Seaborn ile korelasyon matrisinin ısı haritasını çizdirelim."
   ]
  },
  {
   "cell_type": "code",
   "execution_count": 8,
   "id": "surrounded-portuguese",
   "metadata": {
    "execution": {
     "iopub.execute_input": "2021-05-29T17:50:38.125458Z",
     "iopub.status.busy": "2021-05-29T17:50:38.111536Z",
     "iopub.status.idle": "2021-05-29T17:50:38.347328Z",
     "shell.execute_reply": "2021-05-29T17:50:38.346789Z"
    },
    "papermill": {
     "duration": 0.28229,
     "end_time": "2021-05-29T17:50:38.347458",
     "exception": false,
     "start_time": "2021-05-29T17:50:38.065168",
     "status": "completed"
    },
    "tags": []
   },
   "outputs": [
    {
     "data": {
      "image/png": "[encoded data removed]",
      "text/plain": [
       "<Figure size 432x288 with 2 Axes>"
      ]
     },
     "metadata": {
      "needs_background": "light"
     },
     "output_type": "display_data"
    }
   ],
   "source": [
    "corr = df.corr()\n",
    "sns.heatmap(corr, \n",
    "            xticklabels=corr.columns.values,\n",
    "            yticklabels=corr.columns.values);"
   ]
  },
  {
   "cell_type": "markdown",
   "id": "backed-pierce",
   "metadata": {
    "papermill": {
     "duration": 0.044306,
     "end_time": "2021-05-29T17:50:38.431172",
     "exception": false,
     "start_time": "2021-05-29T17:50:38.386866",
     "status": "completed"
    },
    "tags": []
   },
   "source": [
    "R&D Spend ve Profit arasındaki korelasyonu daha iyi görebilmek için scatterplot çizdirelim."
   ]
  },
  {
   "cell_type": "code",
   "execution_count": 9,
   "id": "medical-jersey",
   "metadata": {
    "execution": {
     "iopub.execute_input": "2021-05-29T17:50:38.528732Z",
     "iopub.status.busy": "2021-05-29T17:50:38.527767Z",
     "iopub.status.idle": "2021-05-29T17:50:38.723016Z",
     "shell.execute_reply": "2021-05-29T17:50:38.723725Z"
    },
    "papermill": {
     "duration": 0.245659,
     "end_time": "2021-05-29T17:50:38.723919",
     "exception": false,
     "start_time": "2021-05-29T17:50:38.478260",
     "status": "completed"
    },
    "tags": []
   },
   "outputs": [
    {
     "data": {
      "image/png": "[encoded data removed]",
      "text/plain": [
       "<Figure size 432x288 with 1 Axes>"
      ]
     },
     "metadata": {
      "needs_background": "light"
     },
     "output_type": "display_data"
    }
   ],
   "source": [
    "sns.scatterplot(x = \"R&D Spend\", y = \"Profit\", data = df);"
   ]
  },
  {
   "cell_type": "markdown",
   "id": "casual-island",
   "metadata": {
    "papermill": {
     "duration": 0.040236,
     "end_time": "2021-05-29T17:50:38.806426",
     "exception": false,
     "start_time": "2021-05-29T17:50:38.766190",
     "status": "completed"
    },
    "tags": []
   },
   "source": [
    "Sayısal değişkenlerin dağılımını görmek için df üzerinden histogram çizdirelim."
   ]
  },
  {
   "cell_type": "code",
   "execution_count": 10,
   "id": "saved-classic",
   "metadata": {
    "execution": {
     "iopub.execute_input": "2021-05-29T17:50:38.893100Z",
     "iopub.status.busy": "2021-05-29T17:50:38.892059Z",
     "iopub.status.idle": "2021-05-29T17:50:39.656685Z",
     "shell.execute_reply": "2021-05-29T17:50:39.657142Z"
    },
    "papermill": {
     "duration": 0.809584,
     "end_time": "2021-05-29T17:50:39.657312",
     "exception": false,
     "start_time": "2021-05-29T17:50:38.847728",
     "status": "completed"
    },
    "tags": []
   },
   "outputs": [
    {
     "name": "stderr",
     "output_type": "stream",
     "text": [
      "/opt/conda/lib/python3.7/site-packages/pandas/plotting/_matplotlib/tools.py:400: MatplotlibDeprecationWarning: \n",
      "The is_first_col function was deprecated in Matplotlib 3.4 and will be removed two minor releases later. Use ax.get_subplotspec().is_first_col() instead.\n",
      "  if ax.is_first_col():\n"
     ]
    },
    {
     "data": {
      "image/png": "[encoded data removed]",
      "text/plain": [
       "<Figure size 1440x1440 with 4 Axes>"
      ]
     },
     "metadata": {
      "needs_background": "light"
     },
     "output_type": "display_data"
    }
   ],
   "source": [
    "df.hist(figsize = (20,20))\n",
    "\n",
    "plt.show()"
   ]
  },
  {
   "cell_type": "markdown",
   "id": "premier-strength",
   "metadata": {
    "papermill": {
     "duration": 0.041452,
     "end_time": "2021-05-29T17:50:39.740605",
     "exception": false,
     "start_time": "2021-05-29T17:50:39.699153",
     "status": "completed"
    },
    "tags": []
   },
   "source": [
    "Veri çerçevesinin temel istatistik değerlerini görüntüleyelim."
   ]
  },
  {
   "cell_type": "code",
   "execution_count": 11,
   "id": "experimental-feeding",
   "metadata": {
    "execution": {
     "iopub.execute_input": "2021-05-29T17:50:39.827582Z",
     "iopub.status.busy": "2021-05-29T17:50:39.826929Z",
     "iopub.status.idle": "2021-05-29T17:50:39.856459Z",
     "shell.execute_reply": "2021-05-29T17:50:39.855855Z"
    },
    "papermill": {
     "duration": 0.073981,
     "end_time": "2021-05-29T17:50:39.856599",
     "exception": false,
     "start_time": "2021-05-29T17:50:39.782618",
     "status": "completed"
    },
    "tags": []
   },
   "outputs": [
    {
     "data": {
      "text/html": [
       "<div>\n",
       "<style scoped>\n",
       "    .dataframe tbody tr th:only-of-type {\n",
       "        vertical-align: middle;\n",
       "    }\n",
       "\n",
       "    .dataframe tbody tr th {\n",
       "        vertical-align: top;\n",
       "    }\n",
       "\n",
       "    .dataframe thead th {\n",
       "        text-align: right;\n",
       "    }\n",
       "</style>\n",
       "<table border=\"1\" class=\"dataframe\">\n",
       "  <thead>\n",
       "    <tr style=\"text-align: right;\">\n",
       "      <th></th>\n",
       "      <th>count</th>\n",
       "      <th>mean</th>\n",
       "      <th>std</th>\n",
       "      <th>min</th>\n",
       "      <th>25%</th>\n",
       "      <th>50%</th>\n",
       "      <th>75%</th>\n",
       "      <th>max</th>\n",
       "    </tr>\n",
       "  </thead>\n",
       "  <tbody>\n",
       "    <tr>\n",
       "      <th>R&amp;D Spend</th>\n",
       "      <td>50.0</td>\n",
       "      <td>73721.6156</td>\n",
       "      <td>45902.256482</td>\n",
       "      <td>0.00</td>\n",
       "      <td>39936.3700</td>\n",
       "      <td>73051.080</td>\n",
       "      <td>101602.8000</td>\n",
       "      <td>165349.20</td>\n",
       "    </tr>\n",
       "    <tr>\n",
       "      <th>Administration</th>\n",
       "      <td>50.0</td>\n",
       "      <td>121344.6396</td>\n",
       "      <td>28017.802755</td>\n",
       "      <td>51283.14</td>\n",
       "      <td>103730.8750</td>\n",
       "      <td>122699.795</td>\n",
       "      <td>144842.1800</td>\n",
       "      <td>182645.56</td>\n",
       "    </tr>\n",
       "    <tr>\n",
       "      <th>Marketing Spend</th>\n",
       "      <td>50.0</td>\n",
       "      <td>211025.0978</td>\n",
       "      <td>122290.310726</td>\n",
       "      <td>0.00</td>\n",
       "      <td>129300.1325</td>\n",
       "      <td>212716.240</td>\n",
       "      <td>299469.0850</td>\n",
       "      <td>471784.10</td>\n",
       "    </tr>\n",
       "    <tr>\n",
       "      <th>Profit</th>\n",
       "      <td>50.0</td>\n",
       "      <td>112012.6392</td>\n",
       "      <td>40306.180338</td>\n",
       "      <td>14681.40</td>\n",
       "      <td>90138.9025</td>\n",
       "      <td>107978.190</td>\n",
       "      <td>139765.9775</td>\n",
       "      <td>192261.83</td>\n",
       "    </tr>\n",
       "  </tbody>\n",
       "</table>\n",
       "</div>"
      ],
      "text/plain": [
       "                 count         mean            std       min          25%  \\\n",
       "R&D Spend         50.0   73721.6156   45902.256482      0.00   39936.3700   \n",
       "Administration    50.0  121344.6396   28017.802755  51283.14  103730.8750   \n",
       "Marketing Spend   50.0  211025.0978  122290.310726      0.00  129300.1325   \n",
       "Profit            50.0  112012.6392   40306.180338  14681.40   90138.9025   \n",
       "\n",
       "                        50%          75%        max  \n",
       "R&D Spend         73051.080  101602.8000  165349.20  \n",
       "Administration   122699.795  144842.1800  182645.56  \n",
       "Marketing Spend  212716.240  299469.0850  471784.10  \n",
       "Profit           107978.190  139765.9775  192261.83  "
      ]
     },
     "execution_count": 11,
     "metadata": {},
     "output_type": "execute_result"
    }
   ],
   "source": [
    "df.describe().T"
   ]
  },
  {
   "cell_type": "markdown",
   "id": "congressional-madagascar",
   "metadata": {
    "papermill": {
     "duration": 0.042434,
     "end_time": "2021-05-29T17:50:39.941625",
     "exception": false,
     "start_time": "2021-05-29T17:50:39.899191",
     "status": "completed"
    },
    "tags": []
   },
   "source": [
    "State'a ait benzersiz değerleri görüntüleyelim."
   ]
  },
  {
   "cell_type": "code",
   "execution_count": 12,
   "id": "superior-hazard",
   "metadata": {
    "execution": {
     "iopub.execute_input": "2021-05-29T17:50:40.031833Z",
     "iopub.status.busy": "2021-05-29T17:50:40.031188Z",
     "iopub.status.idle": "2021-05-29T17:50:40.037336Z",
     "shell.execute_reply": "2021-05-29T17:50:40.036666Z"
    },
    "papermill": {
     "duration": 0.053023,
     "end_time": "2021-05-29T17:50:40.037474",
     "exception": false,
     "start_time": "2021-05-29T17:50:39.984451",
     "status": "completed"
    },
    "tags": []
   },
   "outputs": [
    {
     "data": {
      "text/plain": [
       "array(['New York', 'California', 'Florida'], dtype=object)"
      ]
     },
     "execution_count": 12,
     "metadata": {},
     "output_type": "execute_result"
    }
   ],
   "source": [
    "df[\"State\"].unique()"
   ]
  },
  {
   "cell_type": "markdown",
   "id": "friendly-dominican",
   "metadata": {
    "papermill": {
     "duration": 0.042892,
     "end_time": "2021-05-29T17:50:40.123502",
     "exception": false,
     "start_time": "2021-05-29T17:50:40.080610",
     "status": "completed"
    },
    "tags": []
   },
   "source": [
    "get_dummies yardımıyla State'a dair kategorik öznitelik çıkarımlarında bulunalım. Çünkü State'ların birbirine üstünlüğü yok, nominaller. Ordinal değil."
   ]
  },
  {
   "cell_type": "code",
   "execution_count": 13,
   "id": "informative-saint",
   "metadata": {
    "execution": {
     "iopub.execute_input": "2021-05-29T17:50:40.212873Z",
     "iopub.status.busy": "2021-05-29T17:50:40.212265Z",
     "iopub.status.idle": "2021-05-29T17:50:40.219555Z",
     "shell.execute_reply": "2021-05-29T17:50:40.219063Z"
    },
    "papermill": {
     "duration": 0.052868,
     "end_time": "2021-05-29T17:50:40.219695",
     "exception": false,
     "start_time": "2021-05-29T17:50:40.166827",
     "status": "completed"
    },
    "tags": []
   },
   "outputs": [],
   "source": [
    "df_State=pd.get_dummies(df[\"State\"], prefix=\"-\", prefix_sep='State-', dummy_na=False, columns=None,dtype=None)"
   ]
  },
  {
   "cell_type": "code",
   "execution_count": 14,
   "id": "patient-fantasy",
   "metadata": {
    "execution": {
     "iopub.execute_input": "2021-05-29T17:50:40.321737Z",
     "iopub.status.busy": "2021-05-29T17:50:40.320729Z",
     "iopub.status.idle": "2021-05-29T17:50:40.325534Z",
     "shell.execute_reply": "2021-05-29T17:50:40.324898Z"
    },
    "papermill": {
     "duration": 0.062077,
     "end_time": "2021-05-29T17:50:40.325668",
     "exception": false,
     "start_time": "2021-05-29T17:50:40.263591",
     "status": "completed"
    },
    "tags": []
   },
   "outputs": [
    {
     "data": {
      "text/html": [
       "<div>\n",
       "<style scoped>\n",
       "    .dataframe tbody tr th:only-of-type {\n",
       "        vertical-align: middle;\n",
       "    }\n",
       "\n",
       "    .dataframe tbody tr th {\n",
       "        vertical-align: top;\n",
       "    }\n",
       "\n",
       "    .dataframe thead th {\n",
       "        text-align: right;\n",
       "    }\n",
       "</style>\n",
       "<table border=\"1\" class=\"dataframe\">\n",
       "  <thead>\n",
       "    <tr style=\"text-align: right;\">\n",
       "      <th></th>\n",
       "      <th>-State-California</th>\n",
       "      <th>-State-Florida</th>\n",
       "      <th>-State-New York</th>\n",
       "    </tr>\n",
       "  </thead>\n",
       "  <tbody>\n",
       "    <tr>\n",
       "      <th>0</th>\n",
       "      <td>0</td>\n",
       "      <td>0</td>\n",
       "      <td>1</td>\n",
       "    </tr>\n",
       "    <tr>\n",
       "      <th>1</th>\n",
       "      <td>1</td>\n",
       "      <td>0</td>\n",
       "      <td>0</td>\n",
       "    </tr>\n",
       "    <tr>\n",
       "      <th>2</th>\n",
       "      <td>0</td>\n",
       "      <td>1</td>\n",
       "      <td>0</td>\n",
       "    </tr>\n",
       "    <tr>\n",
       "      <th>3</th>\n",
       "      <td>0</td>\n",
       "      <td>0</td>\n",
       "      <td>1</td>\n",
       "    </tr>\n",
       "    <tr>\n",
       "      <th>4</th>\n",
       "      <td>0</td>\n",
       "      <td>1</td>\n",
       "      <td>0</td>\n",
       "    </tr>\n",
       "    <tr>\n",
       "      <th>5</th>\n",
       "      <td>0</td>\n",
       "      <td>0</td>\n",
       "      <td>1</td>\n",
       "    </tr>\n",
       "    <tr>\n",
       "      <th>6</th>\n",
       "      <td>1</td>\n",
       "      <td>0</td>\n",
       "      <td>0</td>\n",
       "    </tr>\n",
       "    <tr>\n",
       "      <th>7</th>\n",
       "      <td>0</td>\n",
       "      <td>1</td>\n",
       "      <td>0</td>\n",
       "    </tr>\n",
       "    <tr>\n",
       "      <th>8</th>\n",
       "      <td>0</td>\n",
       "      <td>0</td>\n",
       "      <td>1</td>\n",
       "    </tr>\n",
       "    <tr>\n",
       "      <th>9</th>\n",
       "      <td>1</td>\n",
       "      <td>0</td>\n",
       "      <td>0</td>\n",
       "    </tr>\n",
       "    <tr>\n",
       "      <th>10</th>\n",
       "      <td>0</td>\n",
       "      <td>1</td>\n",
       "      <td>0</td>\n",
       "    </tr>\n",
       "    <tr>\n",
       "      <th>11</th>\n",
       "      <td>1</td>\n",
       "      <td>0</td>\n",
       "      <td>0</td>\n",
       "    </tr>\n",
       "    <tr>\n",
       "      <th>12</th>\n",
       "      <td>0</td>\n",
       "      <td>1</td>\n",
       "      <td>0</td>\n",
       "    </tr>\n",
       "    <tr>\n",
       "      <th>13</th>\n",
       "      <td>1</td>\n",
       "      <td>0</td>\n",
       "      <td>0</td>\n",
       "    </tr>\n",
       "    <tr>\n",
       "      <th>14</th>\n",
       "      <td>0</td>\n",
       "      <td>1</td>\n",
       "      <td>0</td>\n",
       "    </tr>\n",
       "    <tr>\n",
       "      <th>15</th>\n",
       "      <td>0</td>\n",
       "      <td>0</td>\n",
       "      <td>1</td>\n",
       "    </tr>\n",
       "    <tr>\n",
       "      <th>16</th>\n",
       "      <td>1</td>\n",
       "      <td>0</td>\n",
       "      <td>0</td>\n",
       "    </tr>\n",
       "    <tr>\n",
       "      <th>17</th>\n",
       "      <td>0</td>\n",
       "      <td>0</td>\n",
       "      <td>1</td>\n",
       "    </tr>\n",
       "    <tr>\n",
       "      <th>18</th>\n",
       "      <td>0</td>\n",
       "      <td>1</td>\n",
       "      <td>0</td>\n",
       "    </tr>\n",
       "    <tr>\n",
       "      <th>19</th>\n",
       "      <td>0</td>\n",
       "      <td>0</td>\n",
       "      <td>1</td>\n",
       "    </tr>\n",
       "    <tr>\n",
       "      <th>20</th>\n",
       "      <td>1</td>\n",
       "      <td>0</td>\n",
       "      <td>0</td>\n",
       "    </tr>\n",
       "    <tr>\n",
       "      <th>21</th>\n",
       "      <td>0</td>\n",
       "      <td>0</td>\n",
       "      <td>1</td>\n",
       "    </tr>\n",
       "    <tr>\n",
       "      <th>22</th>\n",
       "      <td>0</td>\n",
       "      <td>1</td>\n",
       "      <td>0</td>\n",
       "    </tr>\n",
       "    <tr>\n",
       "      <th>23</th>\n",
       "      <td>0</td>\n",
       "      <td>1</td>\n",
       "      <td>0</td>\n",
       "    </tr>\n",
       "    <tr>\n",
       "      <th>24</th>\n",
       "      <td>0</td>\n",
       "      <td>0</td>\n",
       "      <td>1</td>\n",
       "    </tr>\n",
       "    <tr>\n",
       "      <th>25</th>\n",
       "      <td>1</td>\n",
       "      <td>0</td>\n",
       "      <td>0</td>\n",
       "    </tr>\n",
       "    <tr>\n",
       "      <th>26</th>\n",
       "      <td>0</td>\n",
       "      <td>1</td>\n",
       "      <td>0</td>\n",
       "    </tr>\n",
       "    <tr>\n",
       "      <th>27</th>\n",
       "      <td>0</td>\n",
       "      <td>0</td>\n",
       "      <td>1</td>\n",
       "    </tr>\n",
       "    <tr>\n",
       "      <th>28</th>\n",
       "      <td>0</td>\n",
       "      <td>1</td>\n",
       "      <td>0</td>\n",
       "    </tr>\n",
       "    <tr>\n",
       "      <th>29</th>\n",
       "      <td>0</td>\n",
       "      <td>0</td>\n",
       "      <td>1</td>\n",
       "    </tr>\n",
       "    <tr>\n",
       "      <th>30</th>\n",
       "      <td>0</td>\n",
       "      <td>1</td>\n",
       "      <td>0</td>\n",
       "    </tr>\n",
       "    <tr>\n",
       "      <th>31</th>\n",
       "      <td>0</td>\n",
       "      <td>0</td>\n",
       "      <td>1</td>\n",
       "    </tr>\n",
       "    <tr>\n",
       "      <th>32</th>\n",
       "      <td>1</td>\n",
       "      <td>0</td>\n",
       "      <td>0</td>\n",
       "    </tr>\n",
       "    <tr>\n",
       "      <th>33</th>\n",
       "      <td>0</td>\n",
       "      <td>1</td>\n",
       "      <td>0</td>\n",
       "    </tr>\n",
       "    <tr>\n",
       "      <th>34</th>\n",
       "      <td>1</td>\n",
       "      <td>0</td>\n",
       "      <td>0</td>\n",
       "    </tr>\n",
       "    <tr>\n",
       "      <th>35</th>\n",
       "      <td>0</td>\n",
       "      <td>0</td>\n",
       "      <td>1</td>\n",
       "    </tr>\n",
       "    <tr>\n",
       "      <th>36</th>\n",
       "      <td>0</td>\n",
       "      <td>1</td>\n",
       "      <td>0</td>\n",
       "    </tr>\n",
       "    <tr>\n",
       "      <th>37</th>\n",
       "      <td>1</td>\n",
       "      <td>0</td>\n",
       "      <td>0</td>\n",
       "    </tr>\n",
       "    <tr>\n",
       "      <th>38</th>\n",
       "      <td>0</td>\n",
       "      <td>0</td>\n",
       "      <td>1</td>\n",
       "    </tr>\n",
       "    <tr>\n",
       "      <th>39</th>\n",
       "      <td>1</td>\n",
       "      <td>0</td>\n",
       "      <td>0</td>\n",
       "    </tr>\n",
       "    <tr>\n",
       "      <th>40</th>\n",
       "      <td>1</td>\n",
       "      <td>0</td>\n",
       "      <td>0</td>\n",
       "    </tr>\n",
       "    <tr>\n",
       "      <th>41</th>\n",
       "      <td>0</td>\n",
       "      <td>1</td>\n",
       "      <td>0</td>\n",
       "    </tr>\n",
       "    <tr>\n",
       "      <th>42</th>\n",
       "      <td>1</td>\n",
       "      <td>0</td>\n",
       "      <td>0</td>\n",
       "    </tr>\n",
       "    <tr>\n",
       "      <th>43</th>\n",
       "      <td>0</td>\n",
       "      <td>0</td>\n",
       "      <td>1</td>\n",
       "    </tr>\n",
       "    <tr>\n",
       "      <th>44</th>\n",
       "      <td>1</td>\n",
       "      <td>0</td>\n",
       "      <td>0</td>\n",
       "    </tr>\n",
       "    <tr>\n",
       "      <th>45</th>\n",
       "      <td>0</td>\n",
       "      <td>0</td>\n",
       "      <td>1</td>\n",
       "    </tr>\n",
       "    <tr>\n",
       "      <th>46</th>\n",
       "      <td>0</td>\n",
       "      <td>1</td>\n",
       "      <td>0</td>\n",
       "    </tr>\n",
       "    <tr>\n",
       "      <th>47</th>\n",
       "      <td>1</td>\n",
       "      <td>0</td>\n",
       "      <td>0</td>\n",
       "    </tr>\n",
       "    <tr>\n",
       "      <th>48</th>\n",
       "      <td>0</td>\n",
       "      <td>0</td>\n",
       "      <td>1</td>\n",
       "    </tr>\n",
       "    <tr>\n",
       "      <th>49</th>\n",
       "      <td>1</td>\n",
       "      <td>0</td>\n",
       "      <td>0</td>\n",
       "    </tr>\n",
       "  </tbody>\n",
       "</table>\n",
       "</div>"
      ],
      "text/plain": [
       "    -State-California  -State-Florida  -State-New York\n",
       "0                   0               0                1\n",
       "1                   1               0                0\n",
       "2                   0               1                0\n",
       "3                   0               0                1\n",
       "4                   0               1                0\n",
       "5                   0               0                1\n",
       "6                   1               0                0\n",
       "7                   0               1                0\n",
       "8                   0               0                1\n",
       "9                   1               0                0\n",
       "10                  0               1                0\n",
       "11                  1               0                0\n",
       "12                  0               1                0\n",
       "13                  1               0                0\n",
       "14                  0               1                0\n",
       "15                  0               0                1\n",
       "16                  1               0                0\n",
       "17                  0               0                1\n",
       "18                  0               1                0\n",
       "19                  0               0                1\n",
       "20                  1               0                0\n",
       "21                  0               0                1\n",
       "22                  0               1                0\n",
       "23                  0               1                0\n",
       "24                  0               0                1\n",
       "25                  1               0                0\n",
       "26                  0               1                0\n",
       "27                  0               0                1\n",
       "28                  0               1                0\n",
       "29                  0               0                1\n",
       "30                  0               1                0\n",
       "31                  0               0                1\n",
       "32                  1               0                0\n",
       "33                  0               1                0\n",
       "34                  1               0                0\n",
       "35                  0               0                1\n",
       "36                  0               1                0\n",
       "37                  1               0                0\n",
       "38                  0               0                1\n",
       "39                  1               0                0\n",
       "40                  1               0                0\n",
       "41                  0               1                0\n",
       "42                  1               0                0\n",
       "43                  0               0                1\n",
       "44                  1               0                0\n",
       "45                  0               0                1\n",
       "46                  0               1                0\n",
       "47                  1               0                0\n",
       "48                  0               0                1\n",
       "49                  1               0                0"
      ]
     },
     "execution_count": 14,
     "metadata": {},
     "output_type": "execute_result"
    }
   ],
   "source": [
    "df_State\n"
   ]
  },
  {
   "cell_type": "markdown",
   "id": "least-projection",
   "metadata": {
    "papermill": {
     "duration": 0.044041,
     "end_time": "2021-05-29T17:50:40.413967",
     "exception": false,
     "start_time": "2021-05-29T17:50:40.369926",
     "status": "completed"
    },
    "tags": []
   },
   "source": [
    "State özniteliğini silip dummy olarak yaratılan State'lardan da birisini hariç tutarak veri çerçevemizi güncelleyelim."
   ]
  },
  {
   "cell_type": "code",
   "execution_count": 15,
   "id": "continuous-charlotte",
   "metadata": {
    "execution": {
     "iopub.execute_input": "2021-05-29T17:50:40.518431Z",
     "iopub.status.busy": "2021-05-29T17:50:40.517501Z",
     "iopub.status.idle": "2021-05-29T17:50:40.521057Z",
     "shell.execute_reply": "2021-05-29T17:50:40.521571Z"
    },
    "papermill": {
     "duration": 0.063491,
     "end_time": "2021-05-29T17:50:40.521734",
     "exception": false,
     "start_time": "2021-05-29T17:50:40.458243",
     "status": "completed"
    },
    "tags": []
   },
   "outputs": [
    {
     "data": {
      "text/html": [
       "<div>\n",
       "<style scoped>\n",
       "    .dataframe tbody tr th:only-of-type {\n",
       "        vertical-align: middle;\n",
       "    }\n",
       "\n",
       "    .dataframe tbody tr th {\n",
       "        vertical-align: top;\n",
       "    }\n",
       "\n",
       "    .dataframe thead th {\n",
       "        text-align: right;\n",
       "    }\n",
       "</style>\n",
       "<table border=\"1\" class=\"dataframe\">\n",
       "  <thead>\n",
       "    <tr style=\"text-align: right;\">\n",
       "      <th></th>\n",
       "      <th>R&amp;D Spend</th>\n",
       "      <th>Administration</th>\n",
       "      <th>Marketing Spend</th>\n",
       "      <th>Profit</th>\n",
       "      <th>-State-California</th>\n",
       "      <th>-State-Florida</th>\n",
       "      <th>-State-New York</th>\n",
       "    </tr>\n",
       "  </thead>\n",
       "  <tbody>\n",
       "    <tr>\n",
       "      <th>0</th>\n",
       "      <td>165349.20</td>\n",
       "      <td>136897.80</td>\n",
       "      <td>471784.10</td>\n",
       "      <td>192261.83</td>\n",
       "      <td>0</td>\n",
       "      <td>0</td>\n",
       "      <td>1</td>\n",
       "    </tr>\n",
       "    <tr>\n",
       "      <th>1</th>\n",
       "      <td>162597.70</td>\n",
       "      <td>151377.59</td>\n",
       "      <td>443898.53</td>\n",
       "      <td>191792.06</td>\n",
       "      <td>1</td>\n",
       "      <td>0</td>\n",
       "      <td>0</td>\n",
       "    </tr>\n",
       "    <tr>\n",
       "      <th>2</th>\n",
       "      <td>153441.51</td>\n",
       "      <td>101145.55</td>\n",
       "      <td>407934.54</td>\n",
       "      <td>191050.39</td>\n",
       "      <td>0</td>\n",
       "      <td>1</td>\n",
       "      <td>0</td>\n",
       "    </tr>\n",
       "    <tr>\n",
       "      <th>3</th>\n",
       "      <td>144372.41</td>\n",
       "      <td>118671.85</td>\n",
       "      <td>383199.62</td>\n",
       "      <td>182901.99</td>\n",
       "      <td>0</td>\n",
       "      <td>0</td>\n",
       "      <td>1</td>\n",
       "    </tr>\n",
       "    <tr>\n",
       "      <th>4</th>\n",
       "      <td>142107.34</td>\n",
       "      <td>91391.77</td>\n",
       "      <td>366168.42</td>\n",
       "      <td>166187.94</td>\n",
       "      <td>0</td>\n",
       "      <td>1</td>\n",
       "      <td>0</td>\n",
       "    </tr>\n",
       "  </tbody>\n",
       "</table>\n",
       "</div>"
      ],
      "text/plain": [
       "   R&D Spend  Administration  Marketing Spend     Profit  -State-California  \\\n",
       "0  165349.20       136897.80        471784.10  192261.83                  0   \n",
       "1  162597.70       151377.59        443898.53  191792.06                  1   \n",
       "2  153441.51       101145.55        407934.54  191050.39                  0   \n",
       "3  144372.41       118671.85        383199.62  182901.99                  0   \n",
       "4  142107.34        91391.77        366168.42  166187.94                  0   \n",
       "\n",
       "   -State-Florida  -State-New York  \n",
       "0               0                1  \n",
       "1               0                0  \n",
       "2               1                0  \n",
       "3               0                1  \n",
       "4               1                0  "
      ]
     },
     "execution_count": 15,
     "metadata": {},
     "output_type": "execute_result"
    }
   ],
   "source": [
    "df.drop([\"State\"], axis=1 , inplace =True)\n",
    "df=pd.concat([df,df_State],axis=1)\n",
    "df.head()\n"
   ]
  },
  {
   "cell_type": "code",
   "execution_count": 16,
   "id": "abroad-typing",
   "metadata": {
    "execution": {
     "iopub.execute_input": "2021-05-29T17:50:40.615493Z",
     "iopub.status.busy": "2021-05-29T17:50:40.614488Z",
     "iopub.status.idle": "2021-05-29T17:50:40.628944Z",
     "shell.execute_reply": "2021-05-29T17:50:40.629401Z"
    },
    "papermill": {
     "duration": 0.063066,
     "end_time": "2021-05-29T17:50:40.629570",
     "exception": false,
     "start_time": "2021-05-29T17:50:40.566504",
     "status": "completed"
    },
    "tags": []
   },
   "outputs": [
    {
     "data": {
      "text/html": [
       "<div>\n",
       "<style scoped>\n",
       "    .dataframe tbody tr th:only-of-type {\n",
       "        vertical-align: middle;\n",
       "    }\n",
       "\n",
       "    .dataframe tbody tr th {\n",
       "        vertical-align: top;\n",
       "    }\n",
       "\n",
       "    .dataframe thead th {\n",
       "        text-align: right;\n",
       "    }\n",
       "</style>\n",
       "<table border=\"1\" class=\"dataframe\">\n",
       "  <thead>\n",
       "    <tr style=\"text-align: right;\">\n",
       "      <th></th>\n",
       "      <th>R&amp;D Spend</th>\n",
       "      <th>Administration</th>\n",
       "      <th>Marketing Spend</th>\n",
       "      <th>Profit</th>\n",
       "      <th>-State-California</th>\n",
       "      <th>-State-New York</th>\n",
       "    </tr>\n",
       "  </thead>\n",
       "  <tbody>\n",
       "    <tr>\n",
       "      <th>0</th>\n",
       "      <td>165349.20</td>\n",
       "      <td>136897.80</td>\n",
       "      <td>471784.10</td>\n",
       "      <td>192261.83</td>\n",
       "      <td>0</td>\n",
       "      <td>1</td>\n",
       "    </tr>\n",
       "    <tr>\n",
       "      <th>1</th>\n",
       "      <td>162597.70</td>\n",
       "      <td>151377.59</td>\n",
       "      <td>443898.53</td>\n",
       "      <td>191792.06</td>\n",
       "      <td>1</td>\n",
       "      <td>0</td>\n",
       "    </tr>\n",
       "    <tr>\n",
       "      <th>2</th>\n",
       "      <td>153441.51</td>\n",
       "      <td>101145.55</td>\n",
       "      <td>407934.54</td>\n",
       "      <td>191050.39</td>\n",
       "      <td>0</td>\n",
       "      <td>0</td>\n",
       "    </tr>\n",
       "    <tr>\n",
       "      <th>3</th>\n",
       "      <td>144372.41</td>\n",
       "      <td>118671.85</td>\n",
       "      <td>383199.62</td>\n",
       "      <td>182901.99</td>\n",
       "      <td>0</td>\n",
       "      <td>1</td>\n",
       "    </tr>\n",
       "    <tr>\n",
       "      <th>4</th>\n",
       "      <td>142107.34</td>\n",
       "      <td>91391.77</td>\n",
       "      <td>366168.42</td>\n",
       "      <td>166187.94</td>\n",
       "      <td>0</td>\n",
       "      <td>0</td>\n",
       "    </tr>\n",
       "  </tbody>\n",
       "</table>\n",
       "</div>"
      ],
      "text/plain": [
       "   R&D Spend  Administration  Marketing Spend     Profit  -State-California  \\\n",
       "0  165349.20       136897.80        471784.10  192261.83                  0   \n",
       "1  162597.70       151377.59        443898.53  191792.06                  1   \n",
       "2  153441.51       101145.55        407934.54  191050.39                  0   \n",
       "3  144372.41       118671.85        383199.62  182901.99                  0   \n",
       "4  142107.34        91391.77        366168.42  166187.94                  0   \n",
       "\n",
       "   -State-New York  \n",
       "0                1  \n",
       "1                0  \n",
       "2                0  \n",
       "3                1  \n",
       "4                0  "
      ]
     },
     "execution_count": 16,
     "metadata": {},
     "output_type": "execute_result"
    }
   ],
   "source": [
    "df.drop([\"-State-Florida\"], axis=1, inplace = True)\n",
    "df.head()"
   ]
  },
  {
   "cell_type": "markdown",
   "id": "interesting-residence",
   "metadata": {
    "papermill": {
     "duration": 0.045868,
     "end_time": "2021-05-29T17:50:40.720716",
     "exception": false,
     "start_time": "2021-05-29T17:50:40.674848",
     "status": "completed"
    },
    "tags": []
   },
   "source": [
    "Veri çerçevemizi bağımlı ve bağımsız değişkenler olmak üzere bölütleyelim."
   ]
  },
  {
   "cell_type": "code",
   "execution_count": 17,
   "id": "allied-dragon",
   "metadata": {
    "execution": {
     "iopub.execute_input": "2021-05-29T17:50:40.815319Z",
     "iopub.status.busy": "2021-05-29T17:50:40.814344Z",
     "iopub.status.idle": "2021-05-29T17:50:40.819488Z",
     "shell.execute_reply": "2021-05-29T17:50:40.820010Z"
    },
    "papermill": {
     "duration": 0.053885,
     "end_time": "2021-05-29T17:50:40.820178",
     "exception": false,
     "start_time": "2021-05-29T17:50:40.766293",
     "status": "completed"
    },
    "tags": []
   },
   "outputs": [],
   "source": [
    "x = df.drop(\"Profit\", axis = 1)\n",
    "y = df[\"Profit\"]"
   ]
  },
  {
   "cell_type": "markdown",
   "id": "equivalent-vehicle",
   "metadata": {
    "papermill": {
     "duration": 0.04651,
     "end_time": "2021-05-29T17:50:40.913745",
     "exception": false,
     "start_time": "2021-05-29T17:50:40.867235",
     "status": "completed"
    },
    "tags": []
   },
   "source": [
    "Bağımlı ve bağımsız değişkenleri kontrol edelim."
   ]
  },
  {
   "cell_type": "code",
   "execution_count": 18,
   "id": "broken-illustration",
   "metadata": {
    "execution": {
     "iopub.execute_input": "2021-05-29T17:50:41.009783Z",
     "iopub.status.busy": "2021-05-29T17:50:41.008837Z",
     "iopub.status.idle": "2021-05-29T17:50:41.021808Z",
     "shell.execute_reply": "2021-05-29T17:50:41.021322Z"
    },
    "papermill": {
     "duration": 0.061361,
     "end_time": "2021-05-29T17:50:41.021931",
     "exception": false,
     "start_time": "2021-05-29T17:50:40.960570",
     "status": "completed"
    },
    "tags": []
   },
   "outputs": [
    {
     "data": {
      "text/html": [
       "<div>\n",
       "<style scoped>\n",
       "    .dataframe tbody tr th:only-of-type {\n",
       "        vertical-align: middle;\n",
       "    }\n",
       "\n",
       "    .dataframe tbody tr th {\n",
       "        vertical-align: top;\n",
       "    }\n",
       "\n",
       "    .dataframe thead th {\n",
       "        text-align: right;\n",
       "    }\n",
       "</style>\n",
       "<table border=\"1\" class=\"dataframe\">\n",
       "  <thead>\n",
       "    <tr style=\"text-align: right;\">\n",
       "      <th></th>\n",
       "      <th>R&amp;D Spend</th>\n",
       "      <th>Administration</th>\n",
       "      <th>Marketing Spend</th>\n",
       "      <th>-State-California</th>\n",
       "      <th>-State-New York</th>\n",
       "    </tr>\n",
       "  </thead>\n",
       "  <tbody>\n",
       "    <tr>\n",
       "      <th>0</th>\n",
       "      <td>165349.20</td>\n",
       "      <td>136897.80</td>\n",
       "      <td>471784.10</td>\n",
       "      <td>0</td>\n",
       "      <td>1</td>\n",
       "    </tr>\n",
       "    <tr>\n",
       "      <th>1</th>\n",
       "      <td>162597.70</td>\n",
       "      <td>151377.59</td>\n",
       "      <td>443898.53</td>\n",
       "      <td>1</td>\n",
       "      <td>0</td>\n",
       "    </tr>\n",
       "    <tr>\n",
       "      <th>2</th>\n",
       "      <td>153441.51</td>\n",
       "      <td>101145.55</td>\n",
       "      <td>407934.54</td>\n",
       "      <td>0</td>\n",
       "      <td>0</td>\n",
       "    </tr>\n",
       "    <tr>\n",
       "      <th>3</th>\n",
       "      <td>144372.41</td>\n",
       "      <td>118671.85</td>\n",
       "      <td>383199.62</td>\n",
       "      <td>0</td>\n",
       "      <td>1</td>\n",
       "    </tr>\n",
       "    <tr>\n",
       "      <th>4</th>\n",
       "      <td>142107.34</td>\n",
       "      <td>91391.77</td>\n",
       "      <td>366168.42</td>\n",
       "      <td>0</td>\n",
       "      <td>0</td>\n",
       "    </tr>\n",
       "  </tbody>\n",
       "</table>\n",
       "</div>"
      ],
      "text/plain": [
       "   R&D Spend  Administration  Marketing Spend  -State-California  \\\n",
       "0  165349.20       136897.80        471784.10                  0   \n",
       "1  162597.70       151377.59        443898.53                  1   \n",
       "2  153441.51       101145.55        407934.54                  0   \n",
       "3  144372.41       118671.85        383199.62                  0   \n",
       "4  142107.34        91391.77        366168.42                  0   \n",
       "\n",
       "   -State-New York  \n",
       "0                1  \n",
       "1                0  \n",
       "2                0  \n",
       "3                1  \n",
       "4                0  "
      ]
     },
     "execution_count": 18,
     "metadata": {},
     "output_type": "execute_result"
    }
   ],
   "source": [
    "x.head()"
   ]
  },
  {
   "cell_type": "code",
   "execution_count": 19,
   "id": "technical-mississippi",
   "metadata": {
    "execution": {
     "iopub.execute_input": "2021-05-29T17:50:41.121408Z",
     "iopub.status.busy": "2021-05-29T17:50:41.120711Z",
     "iopub.status.idle": "2021-05-29T17:50:41.123551Z",
     "shell.execute_reply": "2021-05-29T17:50:41.123974Z"
    },
    "papermill": {
     "duration": 0.054469,
     "end_time": "2021-05-29T17:50:41.124153",
     "exception": false,
     "start_time": "2021-05-29T17:50:41.069684",
     "status": "completed"
    },
    "tags": []
   },
   "outputs": [
    {
     "data": {
      "text/plain": [
       "0    192261.83\n",
       "1    191792.06\n",
       "2    191050.39\n",
       "3    182901.99\n",
       "4    166187.94\n",
       "Name: Profit, dtype: float64"
      ]
     },
     "execution_count": 19,
     "metadata": {},
     "output_type": "execute_result"
    }
   ],
   "source": [
    "y.head()"
   ]
  },
  {
   "cell_type": "markdown",
   "id": "piano-salem",
   "metadata": {
    "papermill": {
     "duration": 0.045948,
     "end_time": "2021-05-29T17:50:41.216552",
     "exception": false,
     "start_time": "2021-05-29T17:50:41.170604",
     "status": "completed"
    },
    "tags": []
   },
   "source": [
    "Bu bağımlı ve bağımsız değişkenlerden train ve test olmak üzere 4 parça oluşturalım. Bunu yapmak için train_test_split kullanalım."
   ]
  },
  {
   "cell_type": "code",
   "execution_count": 20,
   "id": "amber-topic",
   "metadata": {
    "execution": {
     "iopub.execute_input": "2021-05-29T17:50:41.312340Z",
     "iopub.status.busy": "2021-05-29T17:50:41.311719Z",
     "iopub.status.idle": "2021-05-29T17:50:41.510733Z",
     "shell.execute_reply": "2021-05-29T17:50:41.510196Z"
    },
    "papermill": {
     "duration": 0.248354,
     "end_time": "2021-05-29T17:50:41.510885",
     "exception": false,
     "start_time": "2021-05-29T17:50:41.262531",
     "status": "completed"
    },
    "tags": []
   },
   "outputs": [],
   "source": [
    "from sklearn.model_selection import train_test_split\n",
    "x_train, x_test, y_train, y_test = train_test_split(x, y, test_size = 0.20, random_state = 42)\n"
   ]
  },
  {
   "cell_type": "markdown",
   "id": "natural-morrison",
   "metadata": {
    "papermill": {
     "duration": 0.046465,
     "end_time": "2021-05-29T17:50:41.604222",
     "exception": false,
     "start_time": "2021-05-29T17:50:41.557757",
     "status": "completed"
    },
    "tags": []
   },
   "source": [
    "4 parça değişkeni kontrol edelim."
   ]
  },
  {
   "cell_type": "code",
   "execution_count": 21,
   "id": "worth-floating",
   "metadata": {
    "execution": {
     "iopub.execute_input": "2021-05-29T17:50:41.703096Z",
     "iopub.status.busy": "2021-05-29T17:50:41.702433Z",
     "iopub.status.idle": "2021-05-29T17:50:41.713421Z",
     "shell.execute_reply": "2021-05-29T17:50:41.713871Z"
    },
    "papermill": {
     "duration": 0.06128,
     "end_time": "2021-05-29T17:50:41.714068",
     "exception": false,
     "start_time": "2021-05-29T17:50:41.652788",
     "status": "completed"
    },
    "tags": []
   },
   "outputs": [
    {
     "data": {
      "text/html": [
       "<div>\n",
       "<style scoped>\n",
       "    .dataframe tbody tr th:only-of-type {\n",
       "        vertical-align: middle;\n",
       "    }\n",
       "\n",
       "    .dataframe tbody tr th {\n",
       "        vertical-align: top;\n",
       "    }\n",
       "\n",
       "    .dataframe thead th {\n",
       "        text-align: right;\n",
       "    }\n",
       "</style>\n",
       "<table border=\"1\" class=\"dataframe\">\n",
       "  <thead>\n",
       "    <tr style=\"text-align: right;\">\n",
       "      <th></th>\n",
       "      <th>R&amp;D Spend</th>\n",
       "      <th>Administration</th>\n",
       "      <th>Marketing Spend</th>\n",
       "      <th>-State-California</th>\n",
       "      <th>-State-New York</th>\n",
       "    </tr>\n",
       "  </thead>\n",
       "  <tbody>\n",
       "    <tr>\n",
       "      <th>12</th>\n",
       "      <td>93863.75</td>\n",
       "      <td>127320.38</td>\n",
       "      <td>249839.44</td>\n",
       "      <td>0</td>\n",
       "      <td>0</td>\n",
       "    </tr>\n",
       "    <tr>\n",
       "      <th>4</th>\n",
       "      <td>142107.34</td>\n",
       "      <td>91391.77</td>\n",
       "      <td>366168.42</td>\n",
       "      <td>0</td>\n",
       "      <td>0</td>\n",
       "    </tr>\n",
       "    <tr>\n",
       "      <th>37</th>\n",
       "      <td>44069.95</td>\n",
       "      <td>51283.14</td>\n",
       "      <td>197029.42</td>\n",
       "      <td>1</td>\n",
       "      <td>0</td>\n",
       "    </tr>\n",
       "    <tr>\n",
       "      <th>8</th>\n",
       "      <td>120542.52</td>\n",
       "      <td>148718.95</td>\n",
       "      <td>311613.29</td>\n",
       "      <td>0</td>\n",
       "      <td>1</td>\n",
       "    </tr>\n",
       "    <tr>\n",
       "      <th>3</th>\n",
       "      <td>144372.41</td>\n",
       "      <td>118671.85</td>\n",
       "      <td>383199.62</td>\n",
       "      <td>0</td>\n",
       "      <td>1</td>\n",
       "    </tr>\n",
       "  </tbody>\n",
       "</table>\n",
       "</div>"
      ],
      "text/plain": [
       "    R&D Spend  Administration  Marketing Spend  -State-California  \\\n",
       "12   93863.75       127320.38        249839.44                  0   \n",
       "4   142107.34        91391.77        366168.42                  0   \n",
       "37   44069.95        51283.14        197029.42                  1   \n",
       "8   120542.52       148718.95        311613.29                  0   \n",
       "3   144372.41       118671.85        383199.62                  0   \n",
       "\n",
       "    -State-New York  \n",
       "12                0  \n",
       "4                 0  \n",
       "37                0  \n",
       "8                 1  \n",
       "3                 1  "
      ]
     },
     "execution_count": 21,
     "metadata": {},
     "output_type": "execute_result"
    }
   ],
   "source": [
    "x_train.head()"
   ]
  },
  {
   "cell_type": "code",
   "execution_count": 22,
   "id": "sudden-worst",
   "metadata": {
    "execution": {
     "iopub.execute_input": "2021-05-29T17:50:41.810025Z",
     "iopub.status.busy": "2021-05-29T17:50:41.809422Z",
     "iopub.status.idle": "2021-05-29T17:50:41.820775Z",
     "shell.execute_reply": "2021-05-29T17:50:41.821271Z"
    },
    "papermill": {
     "duration": 0.061038,
     "end_time": "2021-05-29T17:50:41.821454",
     "exception": false,
     "start_time": "2021-05-29T17:50:41.760416",
     "status": "completed"
    },
    "tags": []
   },
   "outputs": [
    {
     "data": {
      "text/html": [
       "<div>\n",
       "<style scoped>\n",
       "    .dataframe tbody tr th:only-of-type {\n",
       "        vertical-align: middle;\n",
       "    }\n",
       "\n",
       "    .dataframe tbody tr th {\n",
       "        vertical-align: top;\n",
       "    }\n",
       "\n",
       "    .dataframe thead th {\n",
       "        text-align: right;\n",
       "    }\n",
       "</style>\n",
       "<table border=\"1\" class=\"dataframe\">\n",
       "  <thead>\n",
       "    <tr style=\"text-align: right;\">\n",
       "      <th></th>\n",
       "      <th>R&amp;D Spend</th>\n",
       "      <th>Administration</th>\n",
       "      <th>Marketing Spend</th>\n",
       "      <th>-State-California</th>\n",
       "      <th>-State-New York</th>\n",
       "    </tr>\n",
       "  </thead>\n",
       "  <tbody>\n",
       "    <tr>\n",
       "      <th>13</th>\n",
       "      <td>91992.39</td>\n",
       "      <td>135495.07</td>\n",
       "      <td>252664.93</td>\n",
       "      <td>1</td>\n",
       "      <td>0</td>\n",
       "    </tr>\n",
       "    <tr>\n",
       "      <th>39</th>\n",
       "      <td>38558.51</td>\n",
       "      <td>82982.09</td>\n",
       "      <td>174999.30</td>\n",
       "      <td>1</td>\n",
       "      <td>0</td>\n",
       "    </tr>\n",
       "    <tr>\n",
       "      <th>30</th>\n",
       "      <td>61994.48</td>\n",
       "      <td>115641.28</td>\n",
       "      <td>91131.24</td>\n",
       "      <td>0</td>\n",
       "      <td>0</td>\n",
       "    </tr>\n",
       "    <tr>\n",
       "      <th>45</th>\n",
       "      <td>1000.23</td>\n",
       "      <td>124153.04</td>\n",
       "      <td>1903.93</td>\n",
       "      <td>0</td>\n",
       "      <td>1</td>\n",
       "    </tr>\n",
       "    <tr>\n",
       "      <th>17</th>\n",
       "      <td>94657.16</td>\n",
       "      <td>145077.58</td>\n",
       "      <td>282574.31</td>\n",
       "      <td>0</td>\n",
       "      <td>1</td>\n",
       "    </tr>\n",
       "  </tbody>\n",
       "</table>\n",
       "</div>"
      ],
      "text/plain": [
       "    R&D Spend  Administration  Marketing Spend  -State-California  \\\n",
       "13   91992.39       135495.07        252664.93                  1   \n",
       "39   38558.51        82982.09        174999.30                  1   \n",
       "30   61994.48       115641.28         91131.24                  0   \n",
       "45    1000.23       124153.04          1903.93                  0   \n",
       "17   94657.16       145077.58        282574.31                  0   \n",
       "\n",
       "    -State-New York  \n",
       "13                0  \n",
       "39                0  \n",
       "30                0  \n",
       "45                1  \n",
       "17                1  "
      ]
     },
     "execution_count": 22,
     "metadata": {},
     "output_type": "execute_result"
    }
   ],
   "source": [
    "x_test.head()"
   ]
  },
  {
   "cell_type": "code",
   "execution_count": 23,
   "id": "requested-narrow",
   "metadata": {
    "execution": {
     "iopub.execute_input": "2021-05-29T17:50:41.918371Z",
     "iopub.status.busy": "2021-05-29T17:50:41.917723Z",
     "iopub.status.idle": "2021-05-29T17:50:41.924835Z",
     "shell.execute_reply": "2021-05-29T17:50:41.924309Z"
    },
    "papermill": {
     "duration": 0.05634,
     "end_time": "2021-05-29T17:50:41.924992",
     "exception": false,
     "start_time": "2021-05-29T17:50:41.868652",
     "status": "completed"
    },
    "tags": []
   },
   "outputs": [
    {
     "data": {
      "text/plain": [
       "12    141585.52\n",
       "4     166187.94\n",
       "37     89949.14\n",
       "8     152211.77\n",
       "3     182901.99\n",
       "Name: Profit, dtype: float64"
      ]
     },
     "execution_count": 23,
     "metadata": {},
     "output_type": "execute_result"
    }
   ],
   "source": [
    "y_train.head()"
   ]
  },
  {
   "cell_type": "code",
   "execution_count": 24,
   "id": "bright-newfoundland",
   "metadata": {
    "execution": {
     "iopub.execute_input": "2021-05-29T17:50:42.027639Z",
     "iopub.status.busy": "2021-05-29T17:50:42.026659Z",
     "iopub.status.idle": "2021-05-29T17:50:42.031064Z",
     "shell.execute_reply": "2021-05-29T17:50:42.030546Z"
    },
    "papermill": {
     "duration": 0.05835,
     "end_time": "2021-05-29T17:50:42.031195",
     "exception": false,
     "start_time": "2021-05-29T17:50:41.972845",
     "status": "completed"
    },
    "tags": []
   },
   "outputs": [
    {
     "data": {
      "text/plain": [
       "13    134307.35\n",
       "39     81005.76\n",
       "30     99937.59\n",
       "45     64926.08\n",
       "17    125370.37\n",
       "Name: Profit, dtype: float64"
      ]
     },
     "execution_count": 24,
     "metadata": {},
     "output_type": "execute_result"
    }
   ],
   "source": [
    " y_test.head()"
   ]
  },
  {
   "cell_type": "markdown",
   "id": "accurate-roller",
   "metadata": {
    "papermill": {
     "duration": 0.048358,
     "end_time": "2021-05-29T17:50:42.128909",
     "exception": false,
     "start_time": "2021-05-29T17:50:42.080551",
     "status": "completed"
    },
    "tags": []
   },
   "source": [
    "LinearRegression'u çekirdeğe dahil edip modeli inşa edelim."
   ]
  },
  {
   "cell_type": "code",
   "execution_count": 25,
   "id": "southeast-ready",
   "metadata": {
    "execution": {
     "iopub.execute_input": "2021-05-29T17:50:42.229620Z",
     "iopub.status.busy": "2021-05-29T17:50:42.229020Z",
     "iopub.status.idle": "2021-05-29T17:50:42.325531Z",
     "shell.execute_reply": "2021-05-29T17:50:42.324888Z"
    },
    "papermill": {
     "duration": 0.147732,
     "end_time": "2021-05-29T17:50:42.325670",
     "exception": false,
     "start_time": "2021-05-29T17:50:42.177938",
     "status": "completed"
    },
    "tags": []
   },
   "outputs": [],
   "source": [
    "from sklearn.linear_model import LinearRegression\n",
    "lm = LinearRegression()"
   ]
  },
  {
   "cell_type": "markdown",
   "id": "sunrise-geometry",
   "metadata": {
    "papermill": {
     "duration": 0.04782,
     "end_time": "2021-05-29T17:50:42.422460",
     "exception": false,
     "start_time": "2021-05-29T17:50:42.374640",
     "status": "completed"
    },
    "tags": []
   },
   "source": [
    "Modeli eğitmek için bağımlı bağımsız değişkenlerden oluşturulan eğitim verilerini verelim."
   ]
  },
  {
   "cell_type": "code",
   "execution_count": 26,
   "id": "handled-globe",
   "metadata": {
    "execution": {
     "iopub.execute_input": "2021-05-29T17:50:42.543591Z",
     "iopub.status.busy": "2021-05-29T17:50:42.542561Z",
     "iopub.status.idle": "2021-05-29T17:50:42.548805Z",
     "shell.execute_reply": "2021-05-29T17:50:42.548335Z"
    },
    "papermill": {
     "duration": 0.078161,
     "end_time": "2021-05-29T17:50:42.548950",
     "exception": false,
     "start_time": "2021-05-29T17:50:42.470789",
     "status": "completed"
    },
    "tags": []
   },
   "outputs": [
    {
     "data": {
      "text/plain": [
       "LinearRegression()"
      ]
     },
     "execution_count": 26,
     "metadata": {},
     "output_type": "execute_result"
    }
   ],
   "source": [
    "lm.fit(x_train, y_train)\n"
   ]
  },
  {
   "cell_type": "markdown",
   "id": "undefined-athletics",
   "metadata": {
    "papermill": {
     "duration": 0.04907,
     "end_time": "2021-05-29T17:50:42.647216",
     "exception": false,
     "start_time": "2021-05-29T17:50:42.598146",
     "status": "completed"
    },
    "tags": []
   },
   "source": [
    "Modele daha önce görmediği bağımlı test değişkenini tahmin ettirelim. Bu tahmin değerlerimizi y_pred değişkenine atayalım."
   ]
  },
  {
   "cell_type": "code",
   "execution_count": 27,
   "id": "antique-former",
   "metadata": {
    "execution": {
     "iopub.execute_input": "2021-05-29T17:50:42.753971Z",
     "iopub.status.busy": "2021-05-29T17:50:42.753098Z",
     "iopub.status.idle": "2021-05-29T17:50:42.757382Z",
     "shell.execute_reply": "2021-05-29T17:50:42.756854Z"
    },
    "papermill": {
     "duration": 0.0609,
     "end_time": "2021-05-29T17:50:42.757515",
     "exception": false,
     "start_time": "2021-05-29T17:50:42.696615",
     "status": "completed"
    },
    "tags": []
   },
   "outputs": [
    {
     "data": {
      "text/plain": [
       "array([126362.87908253,  84608.4538364 ,  99677.49425152,  46357.46068582,\n",
       "       128750.482885  ,  50912.41741896, 109741.35032701, 100643.24281645,\n",
       "        97599.27574598, 113097.42524435])"
      ]
     },
     "execution_count": 27,
     "metadata": {},
     "output_type": "execute_result"
    }
   ],
   "source": [
    "y_pred = lm.predict(x_test)\n",
    "y_pred"
   ]
  },
  {
   "cell_type": "markdown",
   "id": "judicial-health",
   "metadata": {
    "papermill": {
     "duration": 0.049091,
     "end_time": "2021-05-29T17:50:42.855952",
     "exception": false,
     "start_time": "2021-05-29T17:50:42.806861",
     "status": "completed"
    },
    "tags": []
   },
   "source": [
    "Tahminleri ve gerçek değerleri bir veri çerçevesinde toplayıp üzerinde göz gezdirelim."
   ]
  },
  {
   "cell_type": "code",
   "execution_count": 28,
   "id": "final-wagner",
   "metadata": {
    "execution": {
     "iopub.execute_input": "2021-05-29T17:50:42.967747Z",
     "iopub.status.busy": "2021-05-29T17:50:42.967122Z",
     "iopub.status.idle": "2021-05-29T17:50:42.971490Z",
     "shell.execute_reply": "2021-05-29T17:50:42.970971Z"
    },
    "papermill": {
     "duration": 0.066141,
     "end_time": "2021-05-29T17:50:42.971617",
     "exception": false,
     "start_time": "2021-05-29T17:50:42.905476",
     "status": "completed"
    },
    "tags": []
   },
   "outputs": [
    {
     "data": {
      "text/html": [
       "<div>\n",
       "<style scoped>\n",
       "    .dataframe tbody tr th:only-of-type {\n",
       "        vertical-align: middle;\n",
       "    }\n",
       "\n",
       "    .dataframe tbody tr th {\n",
       "        vertical-align: top;\n",
       "    }\n",
       "\n",
       "    .dataframe thead th {\n",
       "        text-align: right;\n",
       "    }\n",
       "</style>\n",
       "<table border=\"1\" class=\"dataframe\">\n",
       "  <thead>\n",
       "    <tr style=\"text-align: right;\">\n",
       "      <th></th>\n",
       "      <th>Gerçek-Değer</th>\n",
       "      <th>Tahminler</th>\n",
       "      <th>Residual</th>\n",
       "    </tr>\n",
       "  </thead>\n",
       "  <tbody>\n",
       "    <tr>\n",
       "      <th>13</th>\n",
       "      <td>134307.35</td>\n",
       "      <td>126362.879083</td>\n",
       "      <td>7944.470917</td>\n",
       "    </tr>\n",
       "    <tr>\n",
       "      <th>39</th>\n",
       "      <td>81005.76</td>\n",
       "      <td>84608.453836</td>\n",
       "      <td>3602.693836</td>\n",
       "    </tr>\n",
       "    <tr>\n",
       "      <th>30</th>\n",
       "      <td>99937.59</td>\n",
       "      <td>99677.494252</td>\n",
       "      <td>260.095748</td>\n",
       "    </tr>\n",
       "    <tr>\n",
       "      <th>45</th>\n",
       "      <td>64926.08</td>\n",
       "      <td>46357.460686</td>\n",
       "      <td>18568.619314</td>\n",
       "    </tr>\n",
       "    <tr>\n",
       "      <th>17</th>\n",
       "      <td>125370.37</td>\n",
       "      <td>128750.482885</td>\n",
       "      <td>3380.112885</td>\n",
       "    </tr>\n",
       "    <tr>\n",
       "      <th>48</th>\n",
       "      <td>35673.41</td>\n",
       "      <td>50912.417419</td>\n",
       "      <td>15239.007419</td>\n",
       "    </tr>\n",
       "    <tr>\n",
       "      <th>26</th>\n",
       "      <td>105733.54</td>\n",
       "      <td>109741.350327</td>\n",
       "      <td>4007.810327</td>\n",
       "    </tr>\n",
       "    <tr>\n",
       "      <th>25</th>\n",
       "      <td>107404.34</td>\n",
       "      <td>100643.242816</td>\n",
       "      <td>6761.097184</td>\n",
       "    </tr>\n",
       "    <tr>\n",
       "      <th>32</th>\n",
       "      <td>97427.84</td>\n",
       "      <td>97599.275746</td>\n",
       "      <td>171.435746</td>\n",
       "    </tr>\n",
       "    <tr>\n",
       "      <th>19</th>\n",
       "      <td>122776.86</td>\n",
       "      <td>113097.425244</td>\n",
       "      <td>9679.434756</td>\n",
       "    </tr>\n",
       "  </tbody>\n",
       "</table>\n",
       "</div>"
      ],
      "text/plain": [
       "    Gerçek-Değer      Tahminler      Residual\n",
       "13     134307.35  126362.879083   7944.470917\n",
       "39      81005.76   84608.453836   3602.693836\n",
       "30      99937.59   99677.494252    260.095748\n",
       "45      64926.08   46357.460686  18568.619314\n",
       "17     125370.37  128750.482885   3380.112885\n",
       "48      35673.41   50912.417419  15239.007419\n",
       "26     105733.54  109741.350327   4007.810327\n",
       "25     107404.34  100643.242816   6761.097184\n",
       "32      97427.84   97599.275746    171.435746\n",
       "19     122776.86  113097.425244   9679.434756"
      ]
     },
     "execution_count": 28,
     "metadata": {},
     "output_type": "execute_result"
    }
   ],
   "source": [
    "test= pd.DataFrame({\"Gerçek-Değer\" : y_test, \"Tahminler\" : y_pred,\"Residual\":abs(y_pred-y_test)})\n",
    "\n",
    "test"
   ]
  },
  {
   "cell_type": "markdown",
   "id": "broken-kitty",
   "metadata": {
    "papermill": {
     "duration": 0.050592,
     "end_time": "2021-05-29T17:50:43.071945",
     "exception": false,
     "start_time": "2021-05-29T17:50:43.021353",
     "status": "completed"
    },
    "tags": []
   },
   "source": [
    "sklearn bünyesinde barınan metrics'i çekirdeğe dahil edelim ve MAE, MSE, RMSE değerlerini görüntüleyelim."
   ]
  },
  {
   "cell_type": "code",
   "execution_count": 29,
   "id": "alert-linux",
   "metadata": {
    "execution": {
     "iopub.execute_input": "2021-05-29T17:50:43.179470Z",
     "iopub.status.busy": "2021-05-29T17:50:43.178771Z",
     "iopub.status.idle": "2021-05-29T17:50:43.182916Z",
     "shell.execute_reply": "2021-05-29T17:50:43.182425Z"
    },
    "papermill": {
     "duration": 0.060116,
     "end_time": "2021-05-29T17:50:43.183067",
     "exception": false,
     "start_time": "2021-05-29T17:50:43.122951",
     "status": "completed"
    },
    "tags": []
   },
   "outputs": [
    {
     "data": {
      "text/plain": [
       "6961.47781326698"
      ]
     },
     "execution_count": 29,
     "metadata": {},
     "output_type": "execute_result"
    }
   ],
   "source": [
    "from sklearn.metrics import mean_absolute_error\n",
    "MAE=mean_absolute_error(y_test, y_pred)\n",
    "MAE"
   ]
  },
  {
   "cell_type": "code",
   "execution_count": 30,
   "id": "proved-definition",
   "metadata": {
    "execution": {
     "iopub.execute_input": "2021-05-29T17:50:43.290531Z",
     "iopub.status.busy": "2021-05-29T17:50:43.289513Z",
     "iopub.status.idle": "2021-05-29T17:50:43.293744Z",
     "shell.execute_reply": "2021-05-29T17:50:43.293243Z"
    },
    "papermill": {
     "duration": 0.060283,
     "end_time": "2021-05-29T17:50:43.293900",
     "exception": false,
     "start_time": "2021-05-29T17:50:43.233617",
     "status": "completed"
    },
    "tags": []
   },
   "outputs": [
    {
     "data": {
      "text/plain": [
       "82010363.04474993"
      ]
     },
     "execution_count": 30,
     "metadata": {},
     "output_type": "execute_result"
    }
   ],
   "source": [
    "from sklearn.metrics import mean_squared_error\n",
    "MSE=mean_squared_error(y_test, y_pred)\n",
    "MSE"
   ]
  },
  {
   "cell_type": "code",
   "execution_count": 31,
   "id": "known-provider",
   "metadata": {
    "execution": {
     "iopub.execute_input": "2021-05-29T17:50:43.404279Z",
     "iopub.status.busy": "2021-05-29T17:50:43.403466Z",
     "iopub.status.idle": "2021-05-29T17:50:43.407078Z",
     "shell.execute_reply": "2021-05-29T17:50:43.406465Z"
    },
    "papermill": {
     "duration": 0.061515,
     "end_time": "2021-05-29T17:50:43.407208",
     "exception": false,
     "start_time": "2021-05-29T17:50:43.345693",
     "status": "completed"
    },
    "tags": []
   },
   "outputs": [
    {
     "data": {
      "text/plain": [
       "9055.957323483251"
      ]
     },
     "execution_count": 31,
     "metadata": {},
     "output_type": "execute_result"
    }
   ],
   "source": [
    "RMSE=np.sqrt(mean_squared_error(y_test, y_pred))\n",
    "RMSE"
   ]
  },
  {
   "cell_type": "markdown",
   "id": "dietary-animal",
   "metadata": {
    "papermill": {
     "duration": 0.05129,
     "end_time": "2021-05-29T17:50:43.510723",
     "exception": false,
     "start_time": "2021-05-29T17:50:43.459433",
     "status": "completed"
    },
    "tags": []
   },
   "source": [
    "Modelin R Squared değerini eğitim verileri üzerinden yazdıralım."
   ]
  },
  {
   "cell_type": "code",
   "execution_count": 32,
   "id": "associate-clinton",
   "metadata": {
    "execution": {
     "iopub.execute_input": "2021-05-29T17:50:43.621783Z",
     "iopub.status.busy": "2021-05-29T17:50:43.620967Z",
     "iopub.status.idle": "2021-05-29T17:50:43.624867Z",
     "shell.execute_reply": "2021-05-29T17:50:43.624314Z"
    },
    "papermill": {
     "duration": 0.062728,
     "end_time": "2021-05-29T17:50:43.625029",
     "exception": false,
     "start_time": "2021-05-29T17:50:43.562301",
     "status": "completed"
    },
    "tags": []
   },
   "outputs": [
    {
     "data": {
      "text/plain": [
       "0.9537019995248526"
      ]
     },
     "execution_count": 32,
     "metadata": {},
     "output_type": "execute_result"
    }
   ],
   "source": [
    "lm.score(x_train,y_train)"
   ]
  },
  {
   "cell_type": "markdown",
   "id": "missing-arabic",
   "metadata": {
    "papermill": {
     "duration": 0.052147,
     "end_time": "2021-05-29T17:50:43.729070",
     "exception": false,
     "start_time": "2021-05-29T17:50:43.676923",
     "status": "completed"
    },
    "tags": []
   },
   "source": [
    "Dileyenler statsmodel kullanarak hangi özniteliklerin model için %95 güvenilirlikle ne kadar anlamlı olup olmadığına da bakabilir. Modelde bazı feature selection işlemleri yaparak tekrardan eğitip yeni sonuçlar mukayese edilebilir."
   ]
  },
  {
   "cell_type": "code",
   "execution_count": 33,
   "id": "decreased-sewing",
   "metadata": {
    "execution": {
     "iopub.execute_input": "2021-05-29T17:50:43.838778Z",
     "iopub.status.busy": "2021-05-29T17:50:43.838141Z",
     "iopub.status.idle": "2021-05-29T17:50:44.547575Z",
     "shell.execute_reply": "2021-05-29T17:50:44.547033Z"
    },
    "papermill": {
     "duration": 0.766356,
     "end_time": "2021-05-29T17:50:44.547721",
     "exception": false,
     "start_time": "2021-05-29T17:50:43.781365",
     "status": "completed"
    },
    "tags": []
   },
   "outputs": [],
   "source": [
    "import statsmodels.api as sm\n"
   ]
  },
  {
   "cell_type": "code",
   "execution_count": 34,
   "id": "optional-injury",
   "metadata": {
    "execution": {
     "iopub.execute_input": "2021-05-29T17:50:44.660527Z",
     "iopub.status.busy": "2021-05-29T17:50:44.659878Z",
     "iopub.status.idle": "2021-05-29T17:50:44.663688Z",
     "shell.execute_reply": "2021-05-29T17:50:44.663167Z"
    },
    "papermill": {
     "duration": 0.063377,
     "end_time": "2021-05-29T17:50:44.663815",
     "exception": false,
     "start_time": "2021-05-29T17:50:44.600438",
     "status": "completed"
    },
    "tags": []
   },
   "outputs": [],
   "source": [
    "statsmodel = sm.OLS(y, x).fit()"
   ]
  },
  {
   "cell_type": "code",
   "execution_count": 35,
   "id": "wanted-buying",
   "metadata": {
    "execution": {
     "iopub.execute_input": "2021-05-29T17:50:44.771761Z",
     "iopub.status.busy": "2021-05-29T17:50:44.771167Z",
     "iopub.status.idle": "2021-05-29T17:50:44.790551Z",
     "shell.execute_reply": "2021-05-29T17:50:44.791010Z"
    },
    "papermill": {
     "duration": 0.07466,
     "end_time": "2021-05-29T17:50:44.791177",
     "exception": false,
     "start_time": "2021-05-29T17:50:44.716517",
     "status": "completed"
    },
    "tags": []
   },
   "outputs": [
    {
     "data": {
      "text/html": [
       "<table class=\"simpletable\">\n",
       "<caption>OLS Regression Results</caption>\n",
       "<tr>\n",
       "  <th>Dep. Variable:</th>         <td>Profit</td>      <th>  R-squared (uncentered):</th>      <td>   0.988</td>\n",
       "</tr>\n",
       "<tr>\n",
       "  <th>Model:</th>                   <td>OLS</td>       <th>  Adj. R-squared (uncentered):</th> <td>   0.987</td>\n",
       "</tr>\n",
       "<tr>\n",
       "  <th>Method:</th>             <td>Least Squares</td>  <th>  F-statistic:       </th>          <td>   765.9</td>\n",
       "</tr>\n",
       "<tr>\n",
       "  <th>Date:</th>             <td>Sat, 29 May 2021</td> <th>  Prob (F-statistic):</th>          <td>2.49e-42</td>\n",
       "</tr>\n",
       "<tr>\n",
       "  <th>Time:</th>                 <td>17:50:44</td>     <th>  Log-Likelihood:    </th>          <td> -543.87</td>\n",
       "</tr>\n",
       "<tr>\n",
       "  <th>No. Observations:</th>      <td>    50</td>      <th>  AIC:               </th>          <td>   1098.</td>\n",
       "</tr>\n",
       "<tr>\n",
       "  <th>Df Residuals:</th>          <td>    45</td>      <th>  BIC:               </th>          <td>   1107.</td>\n",
       "</tr>\n",
       "<tr>\n",
       "  <th>Df Model:</th>              <td>     5</td>      <th>                     </th>              <td> </td>   \n",
       "</tr>\n",
       "<tr>\n",
       "  <th>Covariance Type:</th>      <td>nonrobust</td>    <th>                     </th>              <td> </td>   \n",
       "</tr>\n",
       "</table>\n",
       "<table class=\"simpletable\">\n",
       "<tr>\n",
       "          <td></td>             <th>coef</th>     <th>std err</th>      <th>t</th>      <th>P>|t|</th>  <th>[0.025</th>    <th>0.975]</th>  \n",
       "</tr>\n",
       "<tr>\n",
       "  <th>R&D Spend</th>         <td>    0.7217</td> <td>    0.064</td> <td>   11.260</td> <td> 0.000</td> <td>    0.593</td> <td>    0.851</td>\n",
       "</tr>\n",
       "<tr>\n",
       "  <th>Administration</th>    <td>    0.2847</td> <td>    0.038</td> <td>    7.465</td> <td> 0.000</td> <td>    0.208</td> <td>    0.362</td>\n",
       "</tr>\n",
       "<tr>\n",
       "  <th>Marketing Spend</th>   <td>    0.0830</td> <td>    0.022</td> <td>    3.833</td> <td> 0.000</td> <td>    0.039</td> <td>    0.127</td>\n",
       "</tr>\n",
       "<tr>\n",
       "  <th>-State-California</th> <td> 7720.4710</td> <td> 4539.299</td> <td>    1.701</td> <td> 0.096</td> <td>-1422.146</td> <td> 1.69e+04</td>\n",
       "</tr>\n",
       "<tr>\n",
       "  <th>-State-New York</th>   <td> 7126.6916</td> <td> 4530.146</td> <td>    1.573</td> <td> 0.123</td> <td>-1997.491</td> <td> 1.63e+04</td>\n",
       "</tr>\n",
       "</table>\n",
       "<table class=\"simpletable\">\n",
       "<tr>\n",
       "  <th>Omnibus:</th>       <td> 0.862</td> <th>  Durbin-Watson:     </th> <td>   1.480</td>\n",
       "</tr>\n",
       "<tr>\n",
       "  <th>Prob(Omnibus):</th> <td> 0.650</td> <th>  Jarque-Bera (JB):  </th> <td>   0.929</td>\n",
       "</tr>\n",
       "<tr>\n",
       "  <th>Skew:</th>          <td>-0.212</td> <th>  Prob(JB):          </th> <td>   0.628</td>\n",
       "</tr>\n",
       "<tr>\n",
       "  <th>Kurtosis:</th>      <td> 2.484</td> <th>  Cond. No.          </th> <td>8.02e+05</td>\n",
       "</tr>\n",
       "</table><br/><br/>Notes:<br/>[1] R² is computed without centering (uncentered) since the model does not contain a constant.<br/>[2] Standard Errors assume that the covariance matrix of the errors is correctly specified.<br/>[3] The condition number is large, 8.02e+05. This might indicate that there are<br/>strong multicollinearity or other numerical problems."
      ],
      "text/plain": [
       "<class 'statsmodels.iolib.summary.Summary'>\n",
       "\"\"\"\n",
       "                                 OLS Regression Results                                \n",
       "=======================================================================================\n",
       "Dep. Variable:                 Profit   R-squared (uncentered):                   0.988\n",
       "Model:                            OLS   Adj. R-squared (uncentered):              0.987\n",
       "Method:                 Least Squares   F-statistic:                              765.9\n",
       "Date:                Sat, 29 May 2021   Prob (F-statistic):                    2.49e-42\n",
       "Time:                        17:50:44   Log-Likelihood:                         -543.87\n",
       "No. Observations:                  50   AIC:                                      1098.\n",
       "Df Residuals:                      45   BIC:                                      1107.\n",
       "Df Model:                           5                                                  \n",
       "Covariance Type:            nonrobust                                                  \n",
       "=====================================================================================\n",
       "                        coef    std err          t      P>|t|      [0.025      0.975]\n",
       "-------------------------------------------------------------------------------------\n",
       "R&D Spend             0.7217      0.064     11.260      0.000       0.593       0.851\n",
       "Administration        0.2847      0.038      7.465      0.000       0.208       0.362\n",
       "Marketing Spend       0.0830      0.022      3.833      0.000       0.039       0.127\n",
       "-State-California  7720.4710   4539.299      1.701      0.096   -1422.146    1.69e+04\n",
       "-State-New York    7126.6916   4530.146      1.573      0.123   -1997.491    1.63e+04\n",
       "==============================================================================\n",
       "Omnibus:                        0.862   Durbin-Watson:                   1.480\n",
       "Prob(Omnibus):                  0.650   Jarque-Bera (JB):                0.929\n",
       "Skew:                          -0.212   Prob(JB):                        0.628\n",
       "Kurtosis:                       2.484   Cond. No.                     8.02e+05\n",
       "==============================================================================\n",
       "\n",
       "Notes:\n",
       "[1] R² is computed without centering (uncentered) since the model does not contain a constant.\n",
       "[2] Standard Errors assume that the covariance matrix of the errors is correctly specified.\n",
       "[3] The condition number is large, 8.02e+05. This might indicate that there are\n",
       "strong multicollinearity or other numerical problems.\n",
       "\"\"\""
      ]
     },
     "execution_count": 35,
     "metadata": {},
     "output_type": "execute_result"
    }
   ],
   "source": [
    "statsmodel.summary() \n",
    "#Adj. R-squared.Modelin uyumunu yansıtır. R kare değerleri 0 ile 1 arasındadır; burada daha yüksek bir değer, belirli koşulların karşılandığı varsayılarak genellikle daha iyi bir uyumu gösterir.\n",
    "#std err,katsayıların doğruluk düzeyini yansıtır. Ne kadar düşükse, doğruluk seviyesi o kadar yüksek olur,\n",
    "#P> | t | senin olan p-değeri . 0.05'ten küçük bir p değeri istatistiksel olarak anlamlı kabul edilir."
   ]
  }
 ],
 "metadata": {
  "kernelspec": {
   "display_name": "Python 3",
   "language": "python",
   "name": "python3"
  },
  "language_info": {
   "codemirror_mode": {
    "name": "ipython",
    "version": 3
   },
   "file_extension": ".py",
   "mimetype": "text/x-python",
   "name": "python",
   "nbconvert_exporter": "python",
   "pygments_lexer": "ipython3",
   "version": "3.7.10"
  },
  "papermill": {
   "default_parameters": {},
   "duration": 17.359009,
   "end_time": "2021-05-29T17:50:45.554675",
   "environment_variables": {},
   "exception": null,
   "input_path": "__notebook__.ipynb",
   "output_path": "__notebook__.ipynb",
   "parameters": {},
   "start_time": "2021-05-29T17:50:28.195666",
   "version": "2.3.3"
  }
 },
 "nbformat": 4,
 "nbformat_minor": 5
}
